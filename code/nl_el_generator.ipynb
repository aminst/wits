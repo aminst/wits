{
 "cells": [
  {
   "cell_type": "code",
   "execution_count": 1,
   "id": "571dd51a-7271-48fd-9563-aa9749c31018",
   "metadata": {},
   "outputs": [],
   "source": [
    "import numpy as np\n",
    "import pandas as pd"
   ]
  },
  {
   "cell_type": "markdown",
   "id": "efe9b87c-0b35-438b-a205-a14215ab41e8",
   "metadata": {},
   "source": [
    "Removing unused countries"
   ]
  },
  {
   "cell_type": "code",
   "execution_count": 2,
   "id": "f754456a-f85a-4854-a3ed-93d0fc3d1e84",
   "metadata": {},
   "outputs": [],
   "source": [
    "gdp = pd.read_csv(\"../data/gdp_2011.csv\")\n",
    "trades = pd.read_csv(\"../data/trades_export_2011.csv\")"
   ]
  },
  {
   "cell_type": "code",
   "execution_count": 3,
   "id": "4935b700-6849-4cbc-884a-5baaba9c5b40",
   "metadata": {},
   "outputs": [],
   "source": [
    "all_countries = set.union(set(trades['source'].unique()), set(trades['target'].unique()))"
   ]
  },
  {
   "cell_type": "code",
   "execution_count": 4,
   "id": "4a001359-4aa9-4f07-954d-e27a163e062a",
   "metadata": {},
   "outputs": [],
   "source": [
    "for i, row in gdp.iterrows():\n",
    "    if row[\"country_iso3\"] not in all_countries:\n",
    "        gdp.drop(gdp[gdp[\"country_iso3\"] == row[\"country_iso3\"]].index, inplace = True)"
   ]
  },
  {
   "cell_type": "code",
   "execution_count": 5,
   "id": "fa5d20e2-5c12-439b-b88f-afc109b0f2a8",
   "metadata": {},
   "outputs": [],
   "source": [
    "no_gdp_countries = []\n",
    "for country in all_countries:\n",
    "    match = gdp[gdp[\"country_iso3\"] == country]\n",
    "    if len(match) == 0:\n",
    "        no_gdp_countries.append(country)"
   ]
  },
  {
   "cell_type": "code",
   "execution_count": 6,
   "id": "b4b0d1bd-eada-4556-8421-b6010c8c670c",
   "metadata": {},
   "outputs": [],
   "source": [
    "for country in no_gdp_countries:\n",
    "    trades.drop(trades[trades[\"source\"] == country].index, inplace = True)\n",
    "    trades.drop(trades[trades[\"target\"] == country].index, inplace = True)"
   ]
  },
  {
   "cell_type": "markdown",
   "id": "1b2a6814-e798-439b-b064-6cf27da7772e",
   "metadata": {},
   "source": [
    "Backboning"
   ]
  },
  {
   "cell_type": "code",
   "execution_count": 7,
   "id": "de92792d-3c33-4b6f-964e-17971dc31b75",
   "metadata": {},
   "outputs": [],
   "source": [
    "from backbone import *\n",
    "import networkx as nx"
   ]
  },
  {
   "cell_type": "code",
   "execution_count": 8,
   "id": "f5611d1d-b18d-4095-804e-e738549b6d2f",
   "metadata": {},
   "outputs": [],
   "source": [
    "def create_directed_graph(trades: pd.DataFrame, gdp: pd.DataFrame):\n",
    "    net = nx.DiGraph()\n",
    "    nodes = []\n",
    "    for i, row in gdp.iterrows():\n",
    "        nodes.append((row[\"country_iso3\"], {\"label\": row[\"country_iso3\"],\"gdp_us_dollar\": row[\"gdp_us_dollar\"]}))\n",
    "    net.add_nodes_from(nodes)\n",
    "    \n",
    "    for i, row in trades.iterrows():\n",
    "        net.add_edge(row[\"source\"], row[\"target\"], weight = row[\"weight\"])\n",
    "    return net"
   ]
  },
  {
   "cell_type": "code",
   "execution_count": 9,
   "id": "4147f4b0-b1aa-4c7d-81ed-243b2e1a7f32",
   "metadata": {},
   "outputs": [],
   "source": [
    "net = create_directed_graph(trades, gdp)"
   ]
  },
  {
   "cell_type": "code",
   "execution_count": 10,
   "id": "487ec137-2b14-46f9-9b6a-91ba113e4047",
   "metadata": {},
   "outputs": [],
   "source": [
    "def create_backbone_graph(net: nx.DiGraph, min_alpha_ptile = 0.5, min_degree = 2):\n",
    "    graph = net.copy()\n",
    "    alpha_measures = disparity_filter(graph)\n",
    "    quantiles, num_quant = calc_alpha_ptile(alpha_measures)\n",
    "    alpha_cutoff = quantiles[round(num_quant * min_alpha_ptile)]\n",
    "    cut_graph(graph, min_alpha_ptile, min_degree)\n",
    "    return graph"
   ]
  },
  {
   "cell_type": "code",
   "execution_count": 11,
   "id": "b5f4f9a9-7ccd-4b50-a3ad-c571d2ec29b2",
   "metadata": {},
   "outputs": [
    {
     "name": "stdout",
     "output_type": "stream",
     "text": [
      "\tptile\talpha\n",
      "\t0.00\t0.0000\n",
      "\t0.10\t0.2087\n",
      "\t0.20\t0.6953\n",
      "\t0.30\t0.8869\n",
      "\t0.40\t0.9587\n",
      "\t0.50\t0.9852\n",
      "\t0.60\t0.9949\n",
      "\t0.70\t0.9985\n",
      "\t0.80\t0.9997\n",
      "\t0.90\t1.0000\n"
     ]
    }
   ],
   "source": [
    "cut_net = create_backbone_graph(net)"
   ]
  },
  {
   "cell_type": "code",
   "execution_count": 12,
   "id": "d7553270-b24d-4b0e-b945-0e0ab1c13a50",
   "metadata": {},
   "outputs": [],
   "source": [
    "def get_nodes_list(net: nx.DiGraph):\n",
    "    data={}\n",
    "    data[\"country_iso3\"]=[x for x in net]\n",
    "    data[\"gdp_us_dollar\"] = [net.nodes[x][\"gdp_us_dollar\"] for x in net.nodes()]\n",
    "    return pd.DataFrame(data)"
   ]
  },
  {
   "cell_type": "code",
   "execution_count": 13,
   "id": "3c0946ed-5ae1-4300-b2f9-c8620ae5cb60",
   "metadata": {},
   "outputs": [],
   "source": [
    "cut_edge_list = nx.convert_matrix.to_pandas_edgelist(cut_net).drop(columns = [\"alpha_ptile\", \"alpha\", \"norm_weight\"])"
   ]
  },
  {
   "cell_type": "code",
   "execution_count": 14,
   "id": "57f57f74-dbb0-4e21-991a-de242aabd8b0",
   "metadata": {},
   "outputs": [],
   "source": [
    "cut_node_list = get_nodes_list(cut_net)"
   ]
  },
  {
   "cell_type": "code",
   "execution_count": 15,
   "id": "3223be5c-18d5-48ab-9d9a-bba8ed3841bb",
   "metadata": {},
   "outputs": [],
   "source": [
    "cut_edge_list.to_csv(\"../data/edgelist_2011.csv\", index = False)\n",
    "cut_node_list.to_csv(\"../data/nodelist_2011.csv\", index = False)"
   ]
  }
 ],
 "metadata": {
  "kernelspec": {
   "display_name": "Python 3",
   "language": "python",
   "name": "python3"
  },
  "language_info": {
   "codemirror_mode": {
    "name": "ipython",
    "version": 3
   },
   "file_extension": ".py",
   "mimetype": "text/x-python",
   "name": "python",
   "nbconvert_exporter": "python",
   "pygments_lexer": "ipython3",
   "version": "3.9.5"
  }
 },
 "nbformat": 4,
 "nbformat_minor": 5
}
