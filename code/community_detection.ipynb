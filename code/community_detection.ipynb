{
 "cells": [
  {
   "cell_type": "code",
   "execution_count": 14,
   "id": "92b041b5-6596-4b0e-ae67-75d4c9532e24",
   "metadata": {},
   "outputs": [],
   "source": [
    "import pandas as pd\n",
    "import numpy as np\n",
    "import networkx as nx\n",
    "import community as community_louvain\n",
    "import random"
   ]
  },
  {
   "cell_type": "code",
   "execution_count": 25,
   "id": "8cea9ed1-f0c9-42f1-82c3-a716b79be0c0",
   "metadata": {},
   "outputs": [],
   "source": [
    "edges_df = pd.read_csv(\"../tmp/2011/el_no_missing.csv\")\n",
    "locations_df = pd.read_csv(\"../data/common/locations.csv\")\n",
    "nodes_df = pd.read_csv(\"../tmp/2011/nl_no_missing.csv\")"
   ]
  },
  {
   "cell_type": "code",
   "execution_count": 26,
   "id": "2bee1847-c2a5-4139-8386-8c2886b2675d",
   "metadata": {},
   "outputs": [],
   "source": [
    "nodes_df = pd.merge(left=nodes_df, right=locations_df, how='inner', left_on='country_iso3', right_on='Alpha-3code')\n",
    "countries = nodes_df['country_iso3'].unique()"
   ]
  },
  {
   "cell_type": "code",
   "execution_count": 27,
   "id": "6ac20996-4c8e-4ebf-9f63-ee81db6a6a34",
   "metadata": {},
   "outputs": [],
   "source": [
    "trade_data = np.zeros((len(countries), len(countries)))\n",
    "for i in range(len(countries)):\n",
    "    for j in range(len(countries)):\n",
    "        temp = edges_df[\n",
    "            (edges_df['source'] == countries[i]) & (edges_df['target'] == countries[j])\n",
    "        ]\n",
    "        if temp.shape[0] != 0:\n",
    "            trade_data[i, j] += temp['weight']\n",
    "            trade_data[j, i] += temp['weight']"
   ]
  },
  {
   "cell_type": "code",
   "execution_count": 28,
   "id": "3d217e92-6a32-432b-a6ff-bfb9f1e914e2",
   "metadata": {},
   "outputs": [],
   "source": [
    "g = nx.Graph()\n",
    "for i in range(len(countries)):\n",
    "    for j in range(i + 1, len(countries)):\n",
    "        if trade_data[i, j] != 0:\n",
    "            g.add_edge(countries[i], countries[j], weight = trade_data[i, j])"
   ]
  },
  {
   "cell_type": "code",
   "execution_count": 29,
   "id": "3277a648-703b-4f39-aaa0-f4e5c6181cc8",
   "metadata": {},
   "outputs": [],
   "source": [
    "cols = list(nodes_df.columns)\n",
    "cols.remove('country_iso3')"
   ]
  },
  {
   "cell_type": "code",
   "execution_count": 30,
   "id": "17d14c36-63d5-4325-9199-86d864e2b82b",
   "metadata": {},
   "outputs": [],
   "source": [
    "partition = community_louvain.best_partition(g)"
   ]
  },
  {
   "cell_type": "code",
   "execution_count": 31,
   "id": "1ca2c293-d6b6-46b1-9555-6d5015f30adf",
   "metadata": {},
   "outputs": [],
   "source": [
    "nodal_attributes = dict()\n",
    "for index, row in nodes_df.iterrows():\n",
    "    nodal_attributes[row['country_iso3']] = dict()\n",
    "    for col in cols:\n",
    "        nodal_attributes[row['country_iso3']][col] = row[col]\n",
    "    nodal_attributes[row['country_iso3']]['community'] = partition[row['country_iso3']]"
   ]
  },
  {
   "cell_type": "code",
   "execution_count": 32,
   "id": "45410ec1-e9d3-4960-a55e-290e0462f1d1",
   "metadata": {},
   "outputs": [],
   "source": [
    "nx.set_node_attributes(g, nodal_attributes)"
   ]
  },
  {
   "cell_type": "code",
   "execution_count": 33,
   "id": "6f48da63-a3fa-4de4-99e2-9229d1ffbc10",
   "metadata": {},
   "outputs": [],
   "source": [
    "countries_communities_df = pd.DataFrame(\n",
    "    {\n",
    "        'country': partition.keys(), \n",
    "        'community': partition.values()\n",
    "    }\n",
    ")"
   ]
  },
  {
   "cell_type": "code",
   "execution_count": 34,
   "id": "fd9476ef-e24c-4803-b479-b09a1471ac08",
   "metadata": {},
   "outputs": [],
   "source": [
    "countries_communities_df.to_csv(\"../data/countries_communities.csv\", index=False)"
   ]
  },
  {
   "cell_type": "code",
   "execution_count": null,
   "id": "30ec1722-c8d0-46b0-8c57-5c94d4256893",
   "metadata": {},
   "outputs": [],
   "source": []
  }
 ],
 "metadata": {
  "kernelspec": {
   "display_name": "Python 3 (ipykernel)",
   "language": "python",
   "name": "python3"
  },
  "language_info": {
   "codemirror_mode": {
    "name": "ipython",
    "version": 3
   },
   "file_extension": ".py",
   "mimetype": "text/x-python",
   "name": "python",
   "nbconvert_exporter": "python",
   "pygments_lexer": "ipython3",
   "version": "3.9.7"
  }
 },
 "nbformat": 4,
 "nbformat_minor": 5
}
