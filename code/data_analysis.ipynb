{
 "cells": [
  {
   "cell_type": "code",
   "execution_count": 37,
   "id": "8de8a404-8ea3-4dc3-a379-f6bff1eaaafb",
   "metadata": {},
   "outputs": [],
   "source": [
    "import pandas as pd\n",
    "import numpy as np\n",
    "import networkx as nx"
   ]
  },
  {
   "cell_type": "code",
   "execution_count": 2,
   "id": "f798fd90-b6c6-4821-98f1-9b55b51d5e22",
   "metadata": {},
   "outputs": [],
   "source": [
    "initial_trades = pd.read_csv(\"../data/2011/initial_trades.csv\")"
   ]
  },
  {
   "cell_type": "markdown",
   "id": "4c552f2d-4c0f-4fb9-a8ca-7b9545161e1e",
   "metadata": {},
   "source": [
    "Unique countries in initial trades network"
   ]
  },
  {
   "cell_type": "code",
   "execution_count": 3,
   "id": "cd23e290-ea74-4816-ab05-540d9edc7e1e",
   "metadata": {},
   "outputs": [
    {
     "data": {
      "text/plain": [
       "241"
      ]
     },
     "execution_count": 3,
     "metadata": {},
     "output_type": "execute_result"
    }
   ],
   "source": [
    "len(set(initial_trades[\"ReporterISO3\"].unique()).union(set(initial_trades[\"PartnerISO3\"].unique())))"
   ]
  },
  {
   "cell_type": "markdown",
   "id": "360f996a-8b94-4edf-bb16-fd554e2ea498",
   "metadata": {},
   "source": [
    "Reported trades count"
   ]
  },
  {
   "cell_type": "code",
   "execution_count": 4,
   "id": "bd49e209-bdc4-4af5-b0f3-87a1c671cbd1",
   "metadata": {},
   "outputs": [
    {
     "data": {
      "text/plain": [
       "361320"
      ]
     },
     "execution_count": 4,
     "metadata": {},
     "output_type": "execute_result"
    }
   ],
   "source": [
    "len(initial_trades)"
   ]
  },
  {
   "cell_type": "markdown",
   "id": "a1df45d6-765f-4de6-b89f-13f2ca2af80e",
   "metadata": {},
   "source": [
    "Summary of network"
   ]
  },
  {
   "cell_type": "code",
   "execution_count": 40,
   "id": "b3705db5-5a7f-434c-a591-1c340d8619ef",
   "metadata": {},
   "outputs": [],
   "source": [
    "net = nx.from_pandas_edgelist(initial_trades, source=\"ReporterISO3\", target=\"PartnerISO3\", create_using=nx.DiGraph())"
   ]
  },
  {
   "cell_type": "code",
   "execution_count": 44,
   "id": "62f290a5-d81a-4e16-995e-60f6a0832320",
   "metadata": {},
   "outputs": [
    {
     "name": "stdout",
     "output_type": "stream",
     "text": [
      "Name: \n",
      "Type: DiGraph\n",
      "Number of nodes: 241\n",
      "Number of edges: 23085\n",
      "Average in degree:  95.7884\n",
      "Average out degree:  95.7884\n"
     ]
    }
   ],
   "source": [
    "print(nx.info(net))"
   ]
  },
  {
   "cell_type": "code",
   "execution_count": 46,
   "id": "1c39655f-831e-47f7-aa50-12cbb13644d6",
   "metadata": {},
   "outputs": [
    {
     "data": {
      "text/plain": [
       "0.775718261856327"
      ]
     },
     "execution_count": 46,
     "metadata": {},
     "output_type": "execute_result"
    }
   ],
   "source": [
    "nx.algorithms.average_clustering(net)"
   ]
  },
  {
   "cell_type": "code",
   "execution_count": 47,
   "id": "4dc15510-976d-479e-b458-88ac5f2f097b",
   "metadata": {},
   "outputs": [
    {
     "data": {
      "text/plain": [
       "1.0234094052558782"
      ]
     },
     "execution_count": 47,
     "metadata": {},
     "output_type": "execute_result"
    }
   ],
   "source": [
    "nx.average_shortest_path_length(net)"
   ]
  },
  {
   "cell_type": "code",
   "execution_count": 5,
   "id": "c3e447c9-fcc5-40d5-9570-9e5ec7f00776",
   "metadata": {},
   "outputs": [],
   "source": [
    "gdp = pd.read_csv(\"../data/2011/features/gdp.csv\")\n",
    "inflation_rate = pd.read_csv(\"../data/2011/features/inflation.csv\")\n",
    "gdp_growth = pd.read_csv(\"../data/2011/features/gdp_growth.csv\")\n",
    "agriculture_of_gdp = pd.read_csv(\"../data/2011/features/agriculture_forestry_fishing_of_gdp.csv\")\n",
    "industry_of_gdp = pd.read_csv(\"../data/2011/features/industry_of_gdp.csv\")\n",
    "merchandise_of_gdp = pd.read_csv(\"../data/2011/features/merchandise_of_gdp.csv\")\n",
    "net_barter_of_trade = pd.read_csv(\"../data/2011/features/net_barter_of_trade.csv\")\n",
    "foreign_direct_investment_inflows = pd.read_csv(\"../data/2011/features/foreign_direct_investment_inflows.csv\")\n",
    "cepii = pd.read_csv(\"../data/common/geo_cepii.csv\")\n",
    "datasets = [gdp, inflation_rate, gdp_growth, agriculture_of_gdp, industry_of_gdp, merchandise_of_gdp, net_barter_of_trade, foreign_direct_investment_inflows, cepii]"
   ]
  },
  {
   "cell_type": "code",
   "execution_count": 6,
   "id": "f6f96d5b-7353-493a-be91-d483969816b9",
   "metadata": {},
   "outputs": [],
   "source": [
    "nodal_covariates_df = pd.DataFrame(columns= [\"count\", \"mean\", \"std\", \"min\", \"50%\", \"max\"])\n",
    "for dataset in datasets:\n",
    "    nodal_covariates_df = nodal_covariates_df.append(dataset.describe(percentiles=[0.5]).T)"
   ]
  },
  {
   "cell_type": "code",
   "execution_count": 7,
   "id": "f7689cff-47aa-4ed4-aa20-0a1a2709a033",
   "metadata": {},
   "outputs": [
    {
     "data": {
      "text/html": [
       "<div>\n",
       "<style scoped>\n",
       "    .dataframe tbody tr th:only-of-type {\n",
       "        vertical-align: middle;\n",
       "    }\n",
       "\n",
       "    .dataframe tbody tr th {\n",
       "        vertical-align: top;\n",
       "    }\n",
       "\n",
       "    .dataframe thead th {\n",
       "        text-align: right;\n",
       "    }\n",
       "</style>\n",
       "<table border=\"1\" class=\"dataframe\">\n",
       "  <thead>\n",
       "    <tr style=\"text-align: right;\">\n",
       "      <th></th>\n",
       "      <th>count</th>\n",
       "      <th>mean</th>\n",
       "      <th>std</th>\n",
       "      <th>min</th>\n",
       "      <th>50%</th>\n",
       "      <th>max</th>\n",
       "    </tr>\n",
       "  </thead>\n",
       "  <tbody>\n",
       "    <tr>\n",
       "      <th>gdp_us_dollar</th>\n",
       "      <td>261.0</td>\n",
       "      <td>2.298232e+12</td>\n",
       "      <td>7.947971e+12</td>\n",
       "      <td>3.871181e+07</td>\n",
       "      <td>4.195343e+10</td>\n",
       "      <td>7.346035e+13</td>\n",
       "    </tr>\n",
       "    <tr>\n",
       "      <th>inflation_rate</th>\n",
       "      <td>202.0</td>\n",
       "      <td>6.019412e+00</td>\n",
       "      <td>5.807742e+00</td>\n",
       "      <td>-4.000407e-01</td>\n",
       "      <td>4.629727e+00</td>\n",
       "      <td>5.322870e+01</td>\n",
       "    </tr>\n",
       "    <tr>\n",
       "      <th>gdp_growth</th>\n",
       "      <td>259.0</td>\n",
       "      <td>3.603243e+00</td>\n",
       "      <td>5.714971e+00</td>\n",
       "      <td>-6.207592e+01</td>\n",
       "      <td>4.032602e+00</td>\n",
       "      <td>2.167271e+01</td>\n",
       "    </tr>\n",
       "    <tr>\n",
       "      <th>agriculture_forestry_fishing_of_gdp</th>\n",
       "      <td>197.0</td>\n",
       "      <td>1.110478e+01</td>\n",
       "      <td>1.123587e+01</td>\n",
       "      <td>3.466452e-02</td>\n",
       "      <td>7.445151e+00</td>\n",
       "      <td>5.459347e+01</td>\n",
       "    </tr>\n",
       "    <tr>\n",
       "      <th>industry_of_gdp</th>\n",
       "      <td>197.0</td>\n",
       "      <td>2.738498e+01</td>\n",
       "      <td>1.503689e+01</td>\n",
       "      <td>4.160941e+00</td>\n",
       "      <td>2.467238e+01</td>\n",
       "      <td>8.000000e+01</td>\n",
       "    </tr>\n",
       "    <tr>\n",
       "      <th>merchandise_of_gdp</th>\n",
       "      <td>198.0</td>\n",
       "      <td>7.273686e+01</td>\n",
       "      <td>4.942198e+01</td>\n",
       "      <td>1.446293e+01</td>\n",
       "      <td>6.202943e+01</td>\n",
       "      <td>4.352191e+02</td>\n",
       "    </tr>\n",
       "    <tr>\n",
       "      <th>net_barter_of_trade</th>\n",
       "      <td>201.0</td>\n",
       "      <td>1.275091e+02</td>\n",
       "      <td>5.607902e+01</td>\n",
       "      <td>4.961863e+01</td>\n",
       "      <td>1.048921e+02</td>\n",
       "      <td>4.470234e+02</td>\n",
       "    </tr>\n",
       "    <tr>\n",
       "      <th>foreign_direct_investment_inflows</th>\n",
       "      <td>200.0</td>\n",
       "      <td>1.184121e+10</td>\n",
       "      <td>3.982751e+10</td>\n",
       "      <td>-6.008001e+09</td>\n",
       "      <td>9.993155e+08</td>\n",
       "      <td>3.320710e+11</td>\n",
       "    </tr>\n",
       "    <tr>\n",
       "      <th>area</th>\n",
       "      <td>208.0</td>\n",
       "      <td>8.493305e+05</td>\n",
       "      <td>2.178894e+06</td>\n",
       "      <td>2.100000e+01</td>\n",
       "      <td>1.311455e+05</td>\n",
       "      <td>1.707540e+07</td>\n",
       "    </tr>\n",
       "    <tr>\n",
       "      <th>landlocked</th>\n",
       "      <td>208.0</td>\n",
       "      <td>1.826923e-01</td>\n",
       "      <td>3.873463e-01</td>\n",
       "      <td>0.000000e+00</td>\n",
       "      <td>0.000000e+00</td>\n",
       "      <td>1.000000e+00</td>\n",
       "    </tr>\n",
       "  </tbody>\n",
       "</table>\n",
       "</div>"
      ],
      "text/plain": [
       "                                     count          mean           std  \\\n",
       "gdp_us_dollar                        261.0  2.298232e+12  7.947971e+12   \n",
       "inflation_rate                       202.0  6.019412e+00  5.807742e+00   \n",
       "gdp_growth                           259.0  3.603243e+00  5.714971e+00   \n",
       "agriculture_forestry_fishing_of_gdp  197.0  1.110478e+01  1.123587e+01   \n",
       "industry_of_gdp                      197.0  2.738498e+01  1.503689e+01   \n",
       "merchandise_of_gdp                   198.0  7.273686e+01  4.942198e+01   \n",
       "net_barter_of_trade                  201.0  1.275091e+02  5.607902e+01   \n",
       "foreign_direct_investment_inflows    200.0  1.184121e+10  3.982751e+10   \n",
       "area                                 208.0  8.493305e+05  2.178894e+06   \n",
       "landlocked                           208.0  1.826923e-01  3.873463e-01   \n",
       "\n",
       "                                              min           50%           max  \n",
       "gdp_us_dollar                        3.871181e+07  4.195343e+10  7.346035e+13  \n",
       "inflation_rate                      -4.000407e-01  4.629727e+00  5.322870e+01  \n",
       "gdp_growth                          -6.207592e+01  4.032602e+00  2.167271e+01  \n",
       "agriculture_forestry_fishing_of_gdp  3.466452e-02  7.445151e+00  5.459347e+01  \n",
       "industry_of_gdp                      4.160941e+00  2.467238e+01  8.000000e+01  \n",
       "merchandise_of_gdp                   1.446293e+01  6.202943e+01  4.352191e+02  \n",
       "net_barter_of_trade                  4.961863e+01  1.048921e+02  4.470234e+02  \n",
       "foreign_direct_investment_inflows   -6.008001e+09  9.993155e+08  3.320710e+11  \n",
       "area                                 2.100000e+01  1.311455e+05  1.707540e+07  \n",
       "landlocked                           0.000000e+00  0.000000e+00  1.000000e+00  "
      ]
     },
     "execution_count": 7,
     "metadata": {},
     "output_type": "execute_result"
    }
   ],
   "source": [
    "nodal_covariates_df"
   ]
  },
  {
   "cell_type": "code",
   "execution_count": 8,
   "id": "0159dfc6-cd85-4a46-beac-a567874db014",
   "metadata": {},
   "outputs": [],
   "source": [
    "pd.set_option('display.float_format', lambda x: '%.5f' % x)"
   ]
  },
  {
   "cell_type": "code",
   "execution_count": 9,
   "id": "aa21ada7-39d3-4116-b4bf-ba0e1bdaaa1b",
   "metadata": {},
   "outputs": [
    {
     "data": {
      "text/html": [
       "<div>\n",
       "<style scoped>\n",
       "    .dataframe tbody tr th:only-of-type {\n",
       "        vertical-align: middle;\n",
       "    }\n",
       "\n",
       "    .dataframe tbody tr th {\n",
       "        vertical-align: top;\n",
       "    }\n",
       "\n",
       "    .dataframe thead th {\n",
       "        text-align: right;\n",
       "    }\n",
       "</style>\n",
       "<table border=\"1\" class=\"dataframe\">\n",
       "  <thead>\n",
       "    <tr style=\"text-align: right;\">\n",
       "      <th></th>\n",
       "      <th>count</th>\n",
       "      <th>mean</th>\n",
       "      <th>std</th>\n",
       "      <th>min</th>\n",
       "      <th>50%</th>\n",
       "      <th>max</th>\n",
       "    </tr>\n",
       "  </thead>\n",
       "  <tbody>\n",
       "    <tr>\n",
       "      <th>gdp_us_dollar</th>\n",
       "      <td>261.00000</td>\n",
       "      <td>2298232105028.96289</td>\n",
       "      <td>7947971125077.40820</td>\n",
       "      <td>38711810.21000</td>\n",
       "      <td>41953433591.00000</td>\n",
       "      <td>73460345663712.00000</td>\n",
       "    </tr>\n",
       "    <tr>\n",
       "      <th>inflation_rate</th>\n",
       "      <td>202.00000</td>\n",
       "      <td>6.01941</td>\n",
       "      <td>5.80774</td>\n",
       "      <td>-0.40004</td>\n",
       "      <td>4.62973</td>\n",
       "      <td>53.22870</td>\n",
       "    </tr>\n",
       "    <tr>\n",
       "      <th>gdp_growth</th>\n",
       "      <td>259.00000</td>\n",
       "      <td>3.60324</td>\n",
       "      <td>5.71497</td>\n",
       "      <td>-62.07592</td>\n",
       "      <td>4.03260</td>\n",
       "      <td>21.67271</td>\n",
       "    </tr>\n",
       "    <tr>\n",
       "      <th>agriculture_forestry_fishing_of_gdp</th>\n",
       "      <td>197.00000</td>\n",
       "      <td>11.10478</td>\n",
       "      <td>11.23587</td>\n",
       "      <td>0.03466</td>\n",
       "      <td>7.44515</td>\n",
       "      <td>54.59347</td>\n",
       "    </tr>\n",
       "    <tr>\n",
       "      <th>industry_of_gdp</th>\n",
       "      <td>197.00000</td>\n",
       "      <td>27.38498</td>\n",
       "      <td>15.03689</td>\n",
       "      <td>4.16094</td>\n",
       "      <td>24.67238</td>\n",
       "      <td>80.00000</td>\n",
       "    </tr>\n",
       "    <tr>\n",
       "      <th>merchandise_of_gdp</th>\n",
       "      <td>198.00000</td>\n",
       "      <td>72.73686</td>\n",
       "      <td>49.42198</td>\n",
       "      <td>14.46293</td>\n",
       "      <td>62.02943</td>\n",
       "      <td>435.21913</td>\n",
       "    </tr>\n",
       "    <tr>\n",
       "      <th>net_barter_of_trade</th>\n",
       "      <td>201.00000</td>\n",
       "      <td>127.50914</td>\n",
       "      <td>56.07902</td>\n",
       "      <td>49.61863</td>\n",
       "      <td>104.89206</td>\n",
       "      <td>447.02343</td>\n",
       "    </tr>\n",
       "    <tr>\n",
       "      <th>foreign_direct_investment_inflows</th>\n",
       "      <td>200.00000</td>\n",
       "      <td>11841209969.30596</td>\n",
       "      <td>39827510633.94955</td>\n",
       "      <td>-6008001205.17497</td>\n",
       "      <td>999315510.38515</td>\n",
       "      <td>332071022439.73199</td>\n",
       "    </tr>\n",
       "    <tr>\n",
       "      <th>area</th>\n",
       "      <td>208.00000</td>\n",
       "      <td>849330.52404</td>\n",
       "      <td>2178894.46865</td>\n",
       "      <td>21.00000</td>\n",
       "      <td>131145.50000</td>\n",
       "      <td>17075400.00000</td>\n",
       "    </tr>\n",
       "    <tr>\n",
       "      <th>landlocked</th>\n",
       "      <td>208.00000</td>\n",
       "      <td>0.18269</td>\n",
       "      <td>0.38735</td>\n",
       "      <td>0.00000</td>\n",
       "      <td>0.00000</td>\n",
       "      <td>1.00000</td>\n",
       "    </tr>\n",
       "  </tbody>\n",
       "</table>\n",
       "</div>"
      ],
      "text/plain": [
       "                                        count                mean  \\\n",
       "gdp_us_dollar                       261.00000 2298232105028.96289   \n",
       "inflation_rate                      202.00000             6.01941   \n",
       "gdp_growth                          259.00000             3.60324   \n",
       "agriculture_forestry_fishing_of_gdp 197.00000            11.10478   \n",
       "industry_of_gdp                     197.00000            27.38498   \n",
       "merchandise_of_gdp                  198.00000            72.73686   \n",
       "net_barter_of_trade                 201.00000           127.50914   \n",
       "foreign_direct_investment_inflows   200.00000   11841209969.30596   \n",
       "area                                208.00000        849330.52404   \n",
       "landlocked                          208.00000             0.18269   \n",
       "\n",
       "                                                    std               min  \\\n",
       "gdp_us_dollar                       7947971125077.40820    38711810.21000   \n",
       "inflation_rate                                  5.80774          -0.40004   \n",
       "gdp_growth                                      5.71497         -62.07592   \n",
       "agriculture_forestry_fishing_of_gdp            11.23587           0.03466   \n",
       "industry_of_gdp                                15.03689           4.16094   \n",
       "merchandise_of_gdp                             49.42198          14.46293   \n",
       "net_barter_of_trade                            56.07902          49.61863   \n",
       "foreign_direct_investment_inflows     39827510633.94955 -6008001205.17497   \n",
       "area                                      2178894.46865          21.00000   \n",
       "landlocked                                      0.38735           0.00000   \n",
       "\n",
       "                                                  50%                  max  \n",
       "gdp_us_dollar                       41953433591.00000 73460345663712.00000  \n",
       "inflation_rate                                4.62973             53.22870  \n",
       "gdp_growth                                    4.03260             21.67271  \n",
       "agriculture_forestry_fishing_of_gdp           7.44515             54.59347  \n",
       "industry_of_gdp                              24.67238             80.00000  \n",
       "merchandise_of_gdp                           62.02943            435.21913  \n",
       "net_barter_of_trade                         104.89206            447.02343  \n",
       "foreign_direct_investment_inflows     999315510.38515   332071022439.73199  \n",
       "area                                     131145.50000       17075400.00000  \n",
       "landlocked                                    0.00000              1.00000  "
      ]
     },
     "execution_count": 9,
     "metadata": {},
     "output_type": "execute_result"
    }
   ],
   "source": [
    "nodal_covariates_df"
   ]
  },
  {
   "cell_type": "code",
   "execution_count": 14,
   "id": "8204b889-0a03-4a4e-82ac-a978cc5eac78",
   "metadata": {},
   "outputs": [],
   "source": [
    "cepii[\"landlocked\"] = cepii[\"landlocked\"].replace(0, \"No\")\n",
    "cepii[\"landlocked\"] = cepii[\"landlocked\"].replace(1, \"Yes\")"
   ]
  },
  {
   "cell_type": "code",
   "execution_count": 15,
   "id": "799c484d-8588-4292-acce-b9dccfebd8cc",
   "metadata": {},
   "outputs": [
    {
     "data": {
      "text/plain": [
       "count     208\n",
       "unique      2\n",
       "top        No\n",
       "freq      170\n",
       "Name: landlocked, dtype: object"
      ]
     },
     "execution_count": 15,
     "metadata": {},
     "output_type": "execute_result"
    }
   ],
   "source": [
    "cepii[\"landlocked\"].describe()"
   ]
  },
  {
   "cell_type": "code",
   "execution_count": 69,
   "id": "34d0a655-152a-468d-a999-b94f2e519bcf",
   "metadata": {},
   "outputs": [
    {
     "data": {
      "text/plain": [
       "count        208\n",
       "unique         5\n",
       "top       Africa\n",
       "freq          56\n",
       "Name: continent, dtype: object"
      ]
     },
     "execution_count": 69,
     "metadata": {},
     "output_type": "execute_result"
    }
   ],
   "source": [
    "cepii[\"continent\"].describe()"
   ]
  },
  {
   "cell_type": "code",
   "execution_count": 70,
   "id": "b5c696ba-3351-4f30-aedf-04553720d47b",
   "metadata": {},
   "outputs": [
    {
     "data": {
      "text/plain": [
       "count         208\n",
       "unique         64\n",
       "top       English\n",
       "freq           60\n",
       "Name: langoff_1, dtype: object"
      ]
     },
     "execution_count": 70,
     "metadata": {},
     "output_type": "execute_result"
    }
   ],
   "source": [
    "cepii[\"langoff_1\"].describe()"
   ]
  },
  {
   "cell_type": "markdown",
   "id": "d950b800-02e3-4590-8d0f-52b6d70225ba",
   "metadata": {},
   "source": [
    "Distance network"
   ]
  },
  {
   "cell_type": "code",
   "execution_count": 24,
   "id": "661264b6-4307-46bd-b555-b7907249a194",
   "metadata": {},
   "outputs": [
    {
     "data": {
      "text/plain": [
       "224"
      ]
     },
     "execution_count": 24,
     "metadata": {},
     "output_type": "execute_result"
    }
   ],
   "source": [
    "dist_net = pd.read_csv(\"../data/common/dist_cepii.csv\")\n",
    "len(set(dist_net[\"iso_o\"].unique()).union(set(dist_net[\"iso_d\"].unique())))"
   ]
  },
  {
   "cell_type": "code",
   "execution_count": 26,
   "id": "6cb5c8ce-2a54-41cc-a5cc-c55daafae95e",
   "metadata": {},
   "outputs": [
    {
     "data": {
      "text/plain": [
       "50176"
      ]
     },
     "execution_count": 26,
     "metadata": {},
     "output_type": "execute_result"
    }
   ],
   "source": [
    "len(dist_net)"
   ]
  },
  {
   "cell_type": "markdown",
   "id": "e3ac7a2f-8525-4fc8-8e56-c999a7bac720",
   "metadata": {},
   "source": [
    "Diplomatic exchange"
   ]
  },
  {
   "cell_type": "code",
   "execution_count": 28,
   "id": "961138ac-4d0b-4e77-853e-76379d8f7f29",
   "metadata": {},
   "outputs": [
    {
     "data": {
      "text/html": [
       "<div>\n",
       "<style scoped>\n",
       "    .dataframe tbody tr th:only-of-type {\n",
       "        vertical-align: middle;\n",
       "    }\n",
       "\n",
       "    .dataframe tbody tr th {\n",
       "        vertical-align: top;\n",
       "    }\n",
       "\n",
       "    .dataframe thead th {\n",
       "        text-align: right;\n",
       "    }\n",
       "</style>\n",
       "<table border=\"1\" class=\"dataframe\">\n",
       "  <thead>\n",
       "    <tr style=\"text-align: right;\">\n",
       "      <th></th>\n",
       "      <th>Destination</th>\n",
       "      <th>Country</th>\n",
       "    </tr>\n",
       "  </thead>\n",
       "  <tbody>\n",
       "    <tr>\n",
       "      <th>0</th>\n",
       "      <td>Afghanistan</td>\n",
       "      <td>Australia</td>\n",
       "    </tr>\n",
       "    <tr>\n",
       "      <th>1</th>\n",
       "      <td>Afghanistan</td>\n",
       "      <td>Bulgaria</td>\n",
       "    </tr>\n",
       "    <tr>\n",
       "      <th>2</th>\n",
       "      <td>Afghanistan</td>\n",
       "      <td>Canada</td>\n",
       "    </tr>\n",
       "    <tr>\n",
       "      <th>3</th>\n",
       "      <td>Afghanistan</td>\n",
       "      <td>China</td>\n",
       "    </tr>\n",
       "    <tr>\n",
       "      <th>4</th>\n",
       "      <td>Afghanistan</td>\n",
       "      <td>Czech Republic</td>\n",
       "    </tr>\n",
       "    <tr>\n",
       "      <th>...</th>\n",
       "      <td>...</td>\n",
       "      <td>...</td>\n",
       "    </tr>\n",
       "    <tr>\n",
       "      <th>8954</th>\n",
       "      <td>Zimbabwe</td>\n",
       "      <td>Switzerland</td>\n",
       "    </tr>\n",
       "    <tr>\n",
       "      <th>8955</th>\n",
       "      <td>Zimbabwe</td>\n",
       "      <td>Tanzania, United Republic of</td>\n",
       "    </tr>\n",
       "    <tr>\n",
       "      <th>8956</th>\n",
       "      <td>Zimbabwe</td>\n",
       "      <td>United Kingdom</td>\n",
       "    </tr>\n",
       "    <tr>\n",
       "      <th>8957</th>\n",
       "      <td>Zimbabwe</td>\n",
       "      <td>United States</td>\n",
       "    </tr>\n",
       "    <tr>\n",
       "      <th>8958</th>\n",
       "      <td>Zimbabwe</td>\n",
       "      <td>Zambia</td>\n",
       "    </tr>\n",
       "  </tbody>\n",
       "</table>\n",
       "<p>8959 rows × 2 columns</p>\n",
       "</div>"
      ],
      "text/plain": [
       "      Destination                       Country\n",
       "0     Afghanistan                     Australia\n",
       "1     Afghanistan                      Bulgaria\n",
       "2     Afghanistan                        Canada\n",
       "3     Afghanistan                         China\n",
       "4     Afghanistan                Czech Republic\n",
       "...           ...                           ...\n",
       "8954     Zimbabwe                   Switzerland\n",
       "8955     Zimbabwe  Tanzania, United Republic of\n",
       "8956     Zimbabwe                United Kingdom\n",
       "8957     Zimbabwe                 United States\n",
       "8958     Zimbabwe                        Zambia\n",
       "\n",
       "[8959 rows x 2 columns]"
      ]
     },
     "execution_count": 28,
     "metadata": {},
     "output_type": "execute_result"
    }
   ],
   "source": [
    "dp = pd.read_csv(\"../data/2011/features/diplomatic_exchange.csv\")\n",
    "dp"
   ]
  },
  {
   "cell_type": "code",
   "execution_count": 30,
   "id": "6686b598-941c-49f9-98b4-ac2a1a3cc285",
   "metadata": {},
   "outputs": [
    {
     "data": {
      "text/plain": [
       "201"
      ]
     },
     "execution_count": 30,
     "metadata": {},
     "output_type": "execute_result"
    }
   ],
   "source": [
    "len(set(dp[\"Destination\"].unique()).union(set(dp[\"Country\"].unique())))"
   ]
  },
  {
   "cell_type": "code",
   "execution_count": 31,
   "id": "14b99d72-a60d-44d5-b00a-2c2f787df077",
   "metadata": {},
   "outputs": [
    {
     "data": {
      "text/plain": [
       "8959"
      ]
     },
     "execution_count": 31,
     "metadata": {},
     "output_type": "execute_result"
    }
   ],
   "source": [
    "len(dp)"
   ]
  },
  {
   "cell_type": "markdown",
   "id": "fde9cc05-8f90-49f3-adc7-f9d98b2cc129",
   "metadata": {},
   "source": [
    "Colonization"
   ]
  },
  {
   "cell_type": "code",
   "execution_count": 36,
   "id": "e24d6309-38b6-4763-96d4-1b3123d0643f",
   "metadata": {},
   "outputs": [
    {
     "data": {
      "text/plain": [
       "97"
      ]
     },
     "execution_count": 36,
     "metadata": {},
     "output_type": "execute_result"
    }
   ],
   "source": [
    "colony_el = pd.read_csv(\"../data/common/colonization_el.csv\")\n",
    "len(colony_el[colony_el[\"colonization\"] == 1])"
   ]
  }
 ],
 "metadata": {
  "kernelspec": {
   "display_name": "Python 3 (ipykernel)",
   "language": "python",
   "name": "python3"
  },
  "language_info": {
   "codemirror_mode": {
    "name": "ipython",
    "version": 3
   },
   "file_extension": ".py",
   "mimetype": "text/x-python",
   "name": "python",
   "nbconvert_exporter": "python",
   "pygments_lexer": "ipython3",
   "version": "3.9.6"
  }
 },
 "nbformat": 4,
 "nbformat_minor": 5
}
