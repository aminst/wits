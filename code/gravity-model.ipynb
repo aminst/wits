{
 "cells": [
  {
   "cell_type": "code",
   "execution_count": 261,
   "id": "crude-chorus",
   "metadata": {},
   "outputs": [],
   "source": [
    "edges = read.csv('../data/2011/edgelist.csv')\n",
    "nodes = read.csv('../data/2011/nodelist.csv')"
   ]
  },
  {
   "cell_type": "code",
   "execution_count": 262,
   "id": "twenty-forth",
   "metadata": {},
   "outputs": [],
   "source": [
    "nodes = transform(nodes, landlocked=as.factor(landlocked))"
   ]
  },
  {
   "cell_type": "code",
   "execution_count": 263,
   "id": "wooden-marks",
   "metadata": {},
   "outputs": [],
   "source": [
    "nodes$gdp_us_dollar <- log(nodes$gdp_us_dollar)\n",
    "nodes$area <- log(nodes$area)\n",
    "nodes$population <- log(nodes$population)\n",
    "nodes$gdp_per_capita <- log(nodes$gdp_per_capita)\n",
    "nodes$gni_atlas <- log(nodes$gni_atlas)"
   ]
  },
  {
   "cell_type": "code",
   "execution_count": 264,
   "id": "iraqi-sheffield",
   "metadata": {},
   "outputs": [],
   "source": [
    "nodes$gdp_us_dollar = as.numeric(scale(nodes$gdp_us_dollar))\n",
    "nodes$gdp_growth = as.numeric(scale(nodes$gdp_growth))\n",
    "nodes$inflation_rate = as.numeric(scale(nodes$inflation_rate))\n",
    "nodes$population = as.numeric(scale(nodes$population))\n",
    "nodes$gdp_per_capita = as.numeric(scale(nodes$gdp_per_capita))\n",
    "nodes$life_expectancy = as.numeric(scale(nodes$life_expectancy))\n",
    "nodes$gni_atlas = as.numeric(scale(nodes$gni_atlas))\n",
    "nodes$agriculture_forestry_fishing_of_gdp = as.numeric(scale(nodes$agriculture_forestry_fishing_of_gdp))\n",
    "nodes$industry_of_gdp = as.numeric(scale(nodes$industry_of_gdp))\n",
    "nodes$merchandise_of_gdp = as.numeric(scale(nodes$merchandise_of_gdp))\n",
    "nodes$net_barrier_of_trade = as.numeric(scale(nodes$net_barrier_of_trade))\n",
    "nodes$foreign_direct_investment_inflows = as.numeric(scale(nodes$foreign_direct_investment_inflows))\n",
    "nodes$happiness = as.numeric(scale(nodes$happiness))"
   ]
  },
  {
   "cell_type": "code",
   "execution_count": 265,
   "id": "official-conviction",
   "metadata": {},
   "outputs": [
    {
     "data": {
      "text/html": [
       "<table class=\"dataframe\">\n",
       "<caption>A data.frame: 3 × 19</caption>\n",
       "<thead>\n",
       "\t<tr><th></th><th scope=col>country_iso3</th><th scope=col>foreign_direct_investment_inflows</th><th scope=col>colonizer</th><th scope=col>agriculture_forestry_fishing_of_gdp</th><th scope=col>net_barrier_of_trade</th><th scope=col>gdp_growth</th><th scope=col>inflation_rate</th><th scope=col>gdp_us_dollar</th><th scope=col>continent</th><th scope=col>area</th><th scope=col>happiness</th><th scope=col>life_expectancy</th><th scope=col>gni_atlas</th><th scope=col>landlocked</th><th scope=col>merchandise_of_gdp</th><th scope=col>population</th><th scope=col>industry_of_gdp</th><th scope=col>langoff_1</th><th scope=col>gdp_per_capita</th></tr>\n",
       "\t<tr><th></th><th scope=col>&lt;chr&gt;</th><th scope=col>&lt;dbl&gt;</th><th scope=col>&lt;chr&gt;</th><th scope=col>&lt;dbl&gt;</th><th scope=col>&lt;dbl&gt;</th><th scope=col>&lt;dbl&gt;</th><th scope=col>&lt;dbl&gt;</th><th scope=col>&lt;dbl&gt;</th><th scope=col>&lt;chr&gt;</th><th scope=col>&lt;dbl&gt;</th><th scope=col>&lt;dbl&gt;</th><th scope=col>&lt;dbl&gt;</th><th scope=col>&lt;dbl&gt;</th><th scope=col>&lt;fct&gt;</th><th scope=col>&lt;dbl&gt;</th><th scope=col>&lt;dbl&gt;</th><th scope=col>&lt;dbl&gt;</th><th scope=col>&lt;chr&gt;</th><th scope=col>&lt;dbl&gt;</th></tr>\n",
       "</thead>\n",
       "<tbody>\n",
       "\t<tr><th scope=row>1</th><td>AFG</td><td>-0.3281748</td><td>USA </td><td> 1.0489473</td><td> 0.1520729</td><td>-0.50491108</td><td> 0.7633134</td><td>-0.7224803</td><td>Asia  </td><td>13.38814</td><td> 0.2281430</td><td>-1.023194</td><td>-0.7252517</td><td>1</td><td>-0.8511799</td><td> 0.5813344</td><td>-0.4905843</td><td>Persian   </td><td>-1.5109274</td></tr>\n",
       "\t<tr><th scope=row>2</th><td>AGO</td><td>-0.3951331</td><td>PRT </td><td>-0.4737484</td><td> 1.8249821</td><td>-0.05496927</td><td> 1.0187255</td><td> 0.2174899</td><td>Africa</td><td>14.03601</td><td> 0.1461749</td><td>-1.604665</td><td> 0.1116836</td><td>0</td><td> 0.1773835</td><td> 0.4379398</td><td> 1.8543603</td><td>Portuguese</td><td>-0.1590264</td></tr>\n",
       "\t<tr><th scope=row>3</th><td>ALB</td><td>-0.3064818</td><td>NONE</td><td> 0.5795895</td><td>-0.6948990</td><td>-0.19186763</td><td>-0.5112593</td><td>-0.8877026</td><td>Europe</td><td>10.26632</td><td>-0.7365583</td><td> 0.686930</td><td>-0.8416688</td><td>0</td><td>-0.3795621</td><td>-0.9576597</td><td>-0.3677123</td><td>Albanian  </td><td>-0.1849468</td></tr>\n",
       "</tbody>\n",
       "</table>\n"
      ],
      "text/latex": [
       "A data.frame: 3 × 19\n",
       "\\begin{tabular}{r|lllllllllllllllllll}\n",
       "  & country\\_iso3 & foreign\\_direct\\_investment\\_inflows & colonizer & agriculture\\_forestry\\_fishing\\_of\\_gdp & net\\_barrier\\_of\\_trade & gdp\\_growth & inflation\\_rate & gdp\\_us\\_dollar & continent & area & happiness & life\\_expectancy & gni\\_atlas & landlocked & merchandise\\_of\\_gdp & population & industry\\_of\\_gdp & langoff\\_1 & gdp\\_per\\_capita\\\\\n",
       "  & <chr> & <dbl> & <chr> & <dbl> & <dbl> & <dbl> & <dbl> & <dbl> & <chr> & <dbl> & <dbl> & <dbl> & <dbl> & <fct> & <dbl> & <dbl> & <dbl> & <chr> & <dbl>\\\\\n",
       "\\hline\n",
       "\t1 & AFG & -0.3281748 & USA  &  1.0489473 &  0.1520729 & -0.50491108 &  0.7633134 & -0.7224803 & Asia   & 13.38814 &  0.2281430 & -1.023194 & -0.7252517 & 1 & -0.8511799 &  0.5813344 & -0.4905843 & Persian    & -1.5109274\\\\\n",
       "\t2 & AGO & -0.3951331 & PRT  & -0.4737484 &  1.8249821 & -0.05496927 &  1.0187255 &  0.2174899 & Africa & 14.03601 &  0.1461749 & -1.604665 &  0.1116836 & 0 &  0.1773835 &  0.4379398 &  1.8543603 & Portuguese & -0.1590264\\\\\n",
       "\t3 & ALB & -0.3064818 & NONE &  0.5795895 & -0.6948990 & -0.19186763 & -0.5112593 & -0.8877026 & Europe & 10.26632 & -0.7365583 &  0.686930 & -0.8416688 & 0 & -0.3795621 & -0.9576597 & -0.3677123 & Albanian   & -0.1849468\\\\\n",
       "\\end{tabular}\n"
      ],
      "text/markdown": [
       "\n",
       "A data.frame: 3 × 19\n",
       "\n",
       "| <!--/--> | country_iso3 &lt;chr&gt; | foreign_direct_investment_inflows &lt;dbl&gt; | colonizer &lt;chr&gt; | agriculture_forestry_fishing_of_gdp &lt;dbl&gt; | net_barrier_of_trade &lt;dbl&gt; | gdp_growth &lt;dbl&gt; | inflation_rate &lt;dbl&gt; | gdp_us_dollar &lt;dbl&gt; | continent &lt;chr&gt; | area &lt;dbl&gt; | happiness &lt;dbl&gt; | life_expectancy &lt;dbl&gt; | gni_atlas &lt;dbl&gt; | landlocked &lt;fct&gt; | merchandise_of_gdp &lt;dbl&gt; | population &lt;dbl&gt; | industry_of_gdp &lt;dbl&gt; | langoff_1 &lt;chr&gt; | gdp_per_capita &lt;dbl&gt; |\n",
       "|---|---|---|---|---|---|---|---|---|---|---|---|---|---|---|---|---|---|---|---|\n",
       "| 1 | AFG | -0.3281748 | USA  |  1.0489473 |  0.1520729 | -0.50491108 |  0.7633134 | -0.7224803 | Asia   | 13.38814 |  0.2281430 | -1.023194 | -0.7252517 | 1 | -0.8511799 |  0.5813344 | -0.4905843 | Persian    | -1.5109274 |\n",
       "| 2 | AGO | -0.3951331 | PRT  | -0.4737484 |  1.8249821 | -0.05496927 |  1.0187255 |  0.2174899 | Africa | 14.03601 |  0.1461749 | -1.604665 |  0.1116836 | 0 |  0.1773835 |  0.4379398 |  1.8543603 | Portuguese | -0.1590264 |\n",
       "| 3 | ALB | -0.3064818 | NONE |  0.5795895 | -0.6948990 | -0.19186763 | -0.5112593 | -0.8877026 | Europe | 10.26632 | -0.7365583 |  0.686930 | -0.8416688 | 0 | -0.3795621 | -0.9576597 | -0.3677123 | Albanian   | -0.1849468 |\n",
       "\n"
      ],
      "text/plain": [
       "  country_iso3 foreign_direct_investment_inflows colonizer\n",
       "1 AFG          -0.3281748                        USA      \n",
       "2 AGO          -0.3951331                        PRT      \n",
       "3 ALB          -0.3064818                        NONE     \n",
       "  agriculture_forestry_fishing_of_gdp net_barrier_of_trade gdp_growth \n",
       "1  1.0489473                           0.1520729           -0.50491108\n",
       "2 -0.4737484                           1.8249821           -0.05496927\n",
       "3  0.5795895                          -0.6948990           -0.19186763\n",
       "  inflation_rate gdp_us_dollar continent area     happiness  life_expectancy\n",
       "1  0.7633134     -0.7224803    Asia      13.38814  0.2281430 -1.023194      \n",
       "2  1.0187255      0.2174899    Africa    14.03601  0.1461749 -1.604665      \n",
       "3 -0.5112593     -0.8877026    Europe    10.26632 -0.7365583  0.686930      \n",
       "  gni_atlas  landlocked merchandise_of_gdp population industry_of_gdp\n",
       "1 -0.7252517 1          -0.8511799          0.5813344 -0.4905843     \n",
       "2  0.1116836 0           0.1773835          0.4379398  1.8543603     \n",
       "3 -0.8416688 0          -0.3795621         -0.9576597 -0.3677123     \n",
       "  langoff_1  gdp_per_capita\n",
       "1 Persian    -1.5109274    \n",
       "2 Portuguese -0.1590264    \n",
       "3 Albanian   -0.1849468    "
      ]
     },
     "metadata": {},
     "output_type": "display_data"
    }
   ],
   "source": [
    "head(nodes, 3)"
   ]
  },
  {
   "cell_type": "code",
   "execution_count": 266,
   "id": "another-suicide",
   "metadata": {},
   "outputs": [],
   "source": [
    "n_countries = dim(nodes)[1]\n",
    "dyads = matrix(0, nrow = n_countries, ncol = n_countries)\n",
    "nodecovs = array(\n",
    "    rep(0, length(numerical_columns)*n_countries*n_countries), \n",
    "    c(length(numerical_columns), n_countries, n_countries)\n",
    ")\n",
    "absdiffs = array(\n",
    "    rep(0, length(numerical_columns)*n_countries*n_countries), \n",
    "    c(length(numerical_columns), n_countries, n_countries)\n",
    ")\n",
    "nodematchs = array(\n",
    "    rep(0, length(categorical_columns)*n_countries*n_countries), \n",
    "    c(length(categorical_columns), n_countries, n_countries)\n",
    ")"
   ]
  },
  {
   "cell_type": "code",
   "execution_count": 267,
   "id": "selective-tooth",
   "metadata": {},
   "outputs": [],
   "source": [
    "for (i in 1:n_countries) {\n",
    "    for (j in i:n_countries) {\n",
    "        if (sum(edges$source == nodes$country_iso3[i] & edges$target == nodes$country_iso3[j])) {\n",
    "            dyads[i, j] = 1\n",
    "        }    \n",
    "        for (k in 1:length(numerical_columns)) {\n",
    "            nodecovs[k, i, j] = nodes[i, numerical_columns[k]] + nodes[j, numerical_columns[k]]\n",
    "            absdiffs[k, i, j] = abs(nodes[i, numerical_columns[k]] - nodes[j, numerical_columns[k]])\n",
    "        }\n",
    "        for (k in 1:length(categorical_columns)) {\n",
    "            if (nodes[i, categorical_columns[k]] == nodes[j, categorical_columns[k]])\n",
    "            nodematchs[k, i, j] = 1\n",
    "        }\n",
    "    }\n",
    "}"
   ]
  },
  {
   "cell_type": "code",
   "execution_count": 268,
   "id": "meaningful-participation",
   "metadata": {},
   "outputs": [],
   "source": [
    "df = data.frame(\n",
    "    edge = as.vector(t(dyads))\n",
    ")"
   ]
  },
  {
   "cell_type": "code",
   "execution_count": 269,
   "id": "atomic-crest",
   "metadata": {},
   "outputs": [],
   "source": [
    "for (k in 1:length(numerical_columns)) {\n",
    "    df[, paste('nodecov-',numerical_columns[k], sep = '')] = as.vector(t(nodecovs[k,,]))\n",
    "}\n",
    "for (k in 1:length(numerical_columns)) {\n",
    "    df[, paste('absdiff-',numerical_columns[k], sep = '')] = as.vector(t(absdiffs[k,,]))\n",
    "}\n",
    "for (k in 1:length(categorical_columns)) {\n",
    "    df[, paste('nodematch-',categorical_columns[k], sep = '')] = as.vector(t(nodematchs[k,,]))\n",
    "}"
   ]
  },
  {
   "cell_type": "code",
   "execution_count": 277,
   "id": "multiple-ranch",
   "metadata": {},
   "outputs": [
    {
     "data": {
      "text/html": [
       "<table class=\"dataframe\">\n",
       "<caption>A data.frame: 1 × 33</caption>\n",
       "<thead>\n",
       "\t<tr><th></th><th scope=col>edge</th><th scope=col>nodecov-foreign_direct_investment_inflows</th><th scope=col>nodecov-agriculture_forestry_fishing_of_gdp</th><th scope=col>nodecov-net_barrier_of_trade</th><th scope=col>nodecov-gdp_growth</th><th scope=col>nodecov-inflation_rate</th><th scope=col>nodecov-gdp_us_dollar</th><th scope=col>nodecov-area</th><th scope=col>nodecov-happiness</th><th scope=col>nodecov-life_expectancy</th><th scope=col>⋯</th><th scope=col>absdiff-life_expectancy</th><th scope=col>absdiff-gni_atlas</th><th scope=col>absdiff-merchandise_of_gdp</th><th scope=col>absdiff-population</th><th scope=col>absdiff-industry_of_gdp</th><th scope=col>absdiff-gdp_per_capita</th><th scope=col>nodematch-colonizer</th><th scope=col>nodematch-continent</th><th scope=col>nodematch-landlocked</th><th scope=col>nodematch-langoff_1</th></tr>\n",
       "\t<tr><th></th><th scope=col>&lt;dbl&gt;</th><th scope=col>&lt;dbl&gt;</th><th scope=col>&lt;dbl&gt;</th><th scope=col>&lt;dbl&gt;</th><th scope=col>&lt;dbl&gt;</th><th scope=col>&lt;dbl&gt;</th><th scope=col>&lt;dbl&gt;</th><th scope=col>&lt;dbl&gt;</th><th scope=col>&lt;dbl&gt;</th><th scope=col>&lt;dbl&gt;</th><th scope=col>⋯</th><th scope=col>&lt;dbl&gt;</th><th scope=col>&lt;dbl&gt;</th><th scope=col>&lt;dbl&gt;</th><th scope=col>&lt;dbl&gt;</th><th scope=col>&lt;dbl&gt;</th><th scope=col>&lt;dbl&gt;</th><th scope=col>&lt;dbl&gt;</th><th scope=col>&lt;dbl&gt;</th><th scope=col>&lt;dbl&gt;</th><th scope=col>&lt;dbl&gt;</th></tr>\n",
       "</thead>\n",
       "<tbody>\n",
       "\t<tr><th scope=row>287</th><td>0</td><td>-0.6129637</td><td>1.159179</td><td>-1.389798</td><td>-0.3837353</td><td>-1.022519</td><td>-1.775405</td><td>20.53265</td><td>-1.473117</td><td>1.37386</td><td>⋯</td><td>0</td><td>0</td><td>0</td><td>0</td><td>0</td><td>0</td><td>1</td><td>1</td><td>1</td><td>1</td></tr>\n",
       "</tbody>\n",
       "</table>\n"
      ],
      "text/latex": [
       "A data.frame: 1 × 33\n",
       "\\begin{tabular}{r|lllllllllllllllllllll}\n",
       "  & edge & nodecov-foreign\\_direct\\_investment\\_inflows & nodecov-agriculture\\_forestry\\_fishing\\_of\\_gdp & nodecov-net\\_barrier\\_of\\_trade & nodecov-gdp\\_growth & nodecov-inflation\\_rate & nodecov-gdp\\_us\\_dollar & nodecov-area & nodecov-happiness & nodecov-life\\_expectancy & ⋯ & absdiff-life\\_expectancy & absdiff-gni\\_atlas & absdiff-merchandise\\_of\\_gdp & absdiff-population & absdiff-industry\\_of\\_gdp & absdiff-gdp\\_per\\_capita & nodematch-colonizer & nodematch-continent & nodematch-landlocked & nodematch-langoff\\_1\\\\\n",
       "  & <dbl> & <dbl> & <dbl> & <dbl> & <dbl> & <dbl> & <dbl> & <dbl> & <dbl> & <dbl> & ⋯ & <dbl> & <dbl> & <dbl> & <dbl> & <dbl> & <dbl> & <dbl> & <dbl> & <dbl> & <dbl>\\\\\n",
       "\\hline\n",
       "\t287 & 0 & -0.6129637 & 1.159179 & -1.389798 & -0.3837353 & -1.022519 & -1.775405 & 20.53265 & -1.473117 & 1.37386 & ⋯ & 0 & 0 & 0 & 0 & 0 & 0 & 1 & 1 & 1 & 1\\\\\n",
       "\\end{tabular}\n"
      ],
      "text/markdown": [
       "\n",
       "A data.frame: 1 × 33\n",
       "\n",
       "| <!--/--> | edge &lt;dbl&gt; | nodecov-foreign_direct_investment_inflows &lt;dbl&gt; | nodecov-agriculture_forestry_fishing_of_gdp &lt;dbl&gt; | nodecov-net_barrier_of_trade &lt;dbl&gt; | nodecov-gdp_growth &lt;dbl&gt; | nodecov-inflation_rate &lt;dbl&gt; | nodecov-gdp_us_dollar &lt;dbl&gt; | nodecov-area &lt;dbl&gt; | nodecov-happiness &lt;dbl&gt; | nodecov-life_expectancy &lt;dbl&gt; | ⋯ ⋯ | absdiff-life_expectancy &lt;dbl&gt; | absdiff-gni_atlas &lt;dbl&gt; | absdiff-merchandise_of_gdp &lt;dbl&gt; | absdiff-population &lt;dbl&gt; | absdiff-industry_of_gdp &lt;dbl&gt; | absdiff-gdp_per_capita &lt;dbl&gt; | nodematch-colonizer &lt;dbl&gt; | nodematch-continent &lt;dbl&gt; | nodematch-landlocked &lt;dbl&gt; | nodematch-langoff_1 &lt;dbl&gt; |\n",
       "|---|---|---|---|---|---|---|---|---|---|---|---|---|---|---|---|---|---|---|---|---|---|\n",
       "| 287 | 0 | -0.6129637 | 1.159179 | -1.389798 | -0.3837353 | -1.022519 | -1.775405 | 20.53265 | -1.473117 | 1.37386 | ⋯ | 0 | 0 | 0 | 0 | 0 | 0 | 1 | 1 | 1 | 1 |\n",
       "\n"
      ],
      "text/plain": [
       "    edge nodecov-foreign_direct_investment_inflows\n",
       "287 0    -0.6129637                               \n",
       "    nodecov-agriculture_forestry_fishing_of_gdp nodecov-net_barrier_of_trade\n",
       "287 1.159179                                    -1.389798                   \n",
       "    nodecov-gdp_growth nodecov-inflation_rate nodecov-gdp_us_dollar\n",
       "287 -0.3837353         -1.022519              -1.775405            \n",
       "    nodecov-area nodecov-happiness nodecov-life_expectancy <U+22EF>  \n",
       "287 20.53265     -1.473117         1.37386                 <U+22EF>\n",
       "    absdiff-life_expectancy absdiff-gni_atlas absdiff-merchandise_of_gdp\n",
       "287 0                       0                 0                         \n",
       "    absdiff-population absdiff-industry_of_gdp absdiff-gdp_per_capita\n",
       "287 0                  0                       0                     \n",
       "    nodematch-colonizer nodematch-continent nodematch-landlocked\n",
       "287 1                   1                   1                   \n",
       "    nodematch-langoff_1\n",
       "287 1                  "
      ]
     },
     "metadata": {},
     "output_type": "display_data"
    }
   ],
   "source": [
    "df[1 + 142*2 + 2, ]"
   ]
  },
  {
   "cell_type": "code",
   "execution_count": null,
   "id": "right-genealogy",
   "metadata": {},
   "outputs": [],
   "source": []
  }
 ],
 "metadata": {
  "kernelspec": {
   "display_name": "R",
   "language": "R",
   "name": "ir"
  },
  "language_info": {
   "codemirror_mode": "r",
   "file_extension": ".r",
   "mimetype": "text/x-r-source",
   "name": "R",
   "pygments_lexer": "r",
   "version": "4.0.3"
  }
 },
 "nbformat": 4,
 "nbformat_minor": 5
}
