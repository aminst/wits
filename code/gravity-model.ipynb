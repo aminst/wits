{
 "cells": [
  {
   "cell_type": "code",
   "execution_count": 1,
   "id": "higher-bones",
   "metadata": {},
   "outputs": [],
   "source": [
    "edges = read.csv('../data/2011/edgelist.csv')\n",
    "nodes = read.csv('../data/2011/nodelist.csv')"
   ]
  },
  {
   "cell_type": "code",
   "execution_count": 2,
   "id": "linear-garden",
   "metadata": {},
   "outputs": [],
   "source": [
    "nodes = transform(nodes, landlocked=as.factor(landlocked))\n",
    "n_countries = dim(nodes)[1]"
   ]
  },
  {
   "cell_type": "code",
   "execution_count": 3,
   "id": "innocent-period",
   "metadata": {},
   "outputs": [],
   "source": [
    "nodes$gdp_us_dollar <- log(nodes$gdp_us_dollar)\n",
    "nodes$area <- log(nodes$area)\n",
    "nodes$population <- log(nodes$population)\n",
    "nodes$gdp_per_capita <- log(nodes$gdp_per_capita)"
   ]
  },
  {
   "cell_type": "code",
   "execution_count": 4,
   "id": "hourly-genetics",
   "metadata": {},
   "outputs": [],
   "source": [
    "nodes$gdp_us_dollar = as.numeric(scale(nodes$gdp_us_dollar))\n",
    "nodes$gdp_growth = as.numeric(scale(nodes$gdp_growth))\n",
    "nodes$inflation_rate = as.numeric(scale(nodes$inflation_rate))\n",
    "nodes$population = as.numeric(scale(nodes$population))\n",
    "nodes$gdp_per_capita = as.numeric(scale(nodes$gdp_per_capita))\n",
    "nodes$agriculture_forestry_fishing_of_gdp = as.numeric(scale(nodes$agriculture_forestry_fishing_of_gdp))\n",
    "nodes$industry_of_gdp = as.numeric(scale(nodes$industry_of_gdp))\n",
    "nodes$merchandise_of_gdp = as.numeric(scale(nodes$merchandise_of_gdp))\n",
    "nodes$net_barter_of_trade = as.numeric(scale(nodes$net_barter_of_trade))\n",
    "nodes$foreign_direct_investment_inflows = as.numeric(scale(nodes$foreign_direct_investment_inflows))"
   ]
  },
  {
   "cell_type": "code",
   "execution_count": 5,
   "id": "designing-preserve",
   "metadata": {},
   "outputs": [],
   "source": [
    "nodes = subset(nodes, select = -c(population, area, gdp_per_capita))"
   ]
  },
  {
   "cell_type": "code",
   "execution_count": 6,
   "id": "casual-export",
   "metadata": {},
   "outputs": [
    {
     "data": {
      "text/html": [
       "<table class=\"dataframe\">\n",
       "<caption>A data.frame: 3 × 12</caption>\n",
       "<thead>\n",
       "\t<tr><th></th><th scope=col>country_iso3</th><th scope=col>net_barter_of_trade</th><th scope=col>inflation_rate</th><th scope=col>continent</th><th scope=col>merchandise_of_gdp</th><th scope=col>landlocked</th><th scope=col>foreign_direct_investment_inflows</th><th scope=col>industry_of_gdp</th><th scope=col>agriculture_forestry_fishing_of_gdp</th><th scope=col>gdp_growth</th><th scope=col>gdp_us_dollar</th><th scope=col>langoff_1</th></tr>\n",
       "\t<tr><th></th><th scope=col>&lt;chr&gt;</th><th scope=col>&lt;dbl&gt;</th><th scope=col>&lt;dbl&gt;</th><th scope=col>&lt;chr&gt;</th><th scope=col>&lt;dbl&gt;</th><th scope=col>&lt;fct&gt;</th><th scope=col>&lt;dbl&gt;</th><th scope=col>&lt;dbl&gt;</th><th scope=col>&lt;dbl&gt;</th><th scope=col>&lt;dbl&gt;</th><th scope=col>&lt;dbl&gt;</th><th scope=col>&lt;chr&gt;</th></tr>\n",
       "</thead>\n",
       "<tbody>\n",
       "\t<tr><th scope=row>1</th><td>AFG</td><td> 0.2850790</td><td> 0.9180415</td><td>Asia  </td><td>-0.8762355</td><td>1</td><td>-0.3009823</td><td>-0.3946306</td><td> 1.0662655</td><td>-0.52191825</td><td>-0.3714823</td><td>Persian   </td></tr>\n",
       "\t<tr><th scope=row>2</th><td>AGO</td><td> 2.1918886</td><td> 1.1996211</td><td>Africa</td><td> 0.2014880</td><td>0</td><td>-0.3728506</td><td> 1.8415661</td><td>-0.4800047</td><td>-0.04976185</td><td> 0.4290518</td><td>Portuguese</td></tr>\n",
       "\t<tr><th scope=row>3</th><td>ALB</td><td>-0.6803136</td><td>-0.4871133</td><td>Europe</td><td>-0.3820768</td><td>0</td><td>-0.2776986</td><td>-0.2774569</td><td> 0.5896411</td><td>-0.19341918</td><td>-0.5121953</td><td>Albanian  </td></tr>\n",
       "</tbody>\n",
       "</table>\n"
      ],
      "text/latex": [
       "A data.frame: 3 × 12\n",
       "\\begin{tabular}{r|llllllllllll}\n",
       "  & country\\_iso3 & net\\_barter\\_of\\_trade & inflation\\_rate & continent & merchandise\\_of\\_gdp & landlocked & foreign\\_direct\\_investment\\_inflows & industry\\_of\\_gdp & agriculture\\_forestry\\_fishing\\_of\\_gdp & gdp\\_growth & gdp\\_us\\_dollar & langoff\\_1\\\\\n",
       "  & <chr> & <dbl> & <dbl> & <chr> & <dbl> & <fct> & <dbl> & <dbl> & <dbl> & <dbl> & <dbl> & <chr>\\\\\n",
       "\\hline\n",
       "\t1 & AFG &  0.2850790 &  0.9180415 & Asia   & -0.8762355 & 1 & -0.3009823 & -0.3946306 &  1.0662655 & -0.52191825 & -0.3714823 & Persian   \\\\\n",
       "\t2 & AGO &  2.1918886 &  1.1996211 & Africa &  0.2014880 & 0 & -0.3728506 &  1.8415661 & -0.4800047 & -0.04976185 &  0.4290518 & Portuguese\\\\\n",
       "\t3 & ALB & -0.6803136 & -0.4871133 & Europe & -0.3820768 & 0 & -0.2776986 & -0.2774569 &  0.5896411 & -0.19341918 & -0.5121953 & Albanian  \\\\\n",
       "\\end{tabular}\n"
      ],
      "text/markdown": [
       "\n",
       "A data.frame: 3 × 12\n",
       "\n",
       "| <!--/--> | country_iso3 &lt;chr&gt; | net_barter_of_trade &lt;dbl&gt; | inflation_rate &lt;dbl&gt; | continent &lt;chr&gt; | merchandise_of_gdp &lt;dbl&gt; | landlocked &lt;fct&gt; | foreign_direct_investment_inflows &lt;dbl&gt; | industry_of_gdp &lt;dbl&gt; | agriculture_forestry_fishing_of_gdp &lt;dbl&gt; | gdp_growth &lt;dbl&gt; | gdp_us_dollar &lt;dbl&gt; | langoff_1 &lt;chr&gt; |\n",
       "|---|---|---|---|---|---|---|---|---|---|---|---|---|\n",
       "| 1 | AFG |  0.2850790 |  0.9180415 | Asia   | -0.8762355 | 1 | -0.3009823 | -0.3946306 |  1.0662655 | -0.52191825 | -0.3714823 | Persian    |\n",
       "| 2 | AGO |  2.1918886 |  1.1996211 | Africa |  0.2014880 | 0 | -0.3728506 |  1.8415661 | -0.4800047 | -0.04976185 |  0.4290518 | Portuguese |\n",
       "| 3 | ALB | -0.6803136 | -0.4871133 | Europe | -0.3820768 | 0 | -0.2776986 | -0.2774569 |  0.5896411 | -0.19341918 | -0.5121953 | Albanian   |\n",
       "\n"
      ],
      "text/plain": [
       "  country_iso3 net_barter_of_trade inflation_rate continent merchandise_of_gdp\n",
       "1 AFG           0.2850790           0.9180415     Asia      -0.8762355        \n",
       "2 AGO           2.1918886           1.1996211     Africa     0.2014880        \n",
       "3 ALB          -0.6803136          -0.4871133     Europe    -0.3820768        \n",
       "  landlocked foreign_direct_investment_inflows industry_of_gdp\n",
       "1 1          -0.3009823                        -0.3946306     \n",
       "2 0          -0.3728506                         1.8415661     \n",
       "3 0          -0.2776986                        -0.2774569     \n",
       "  agriculture_forestry_fishing_of_gdp gdp_growth  gdp_us_dollar langoff_1 \n",
       "1  1.0662655                          -0.52191825 -0.3714823    Persian   \n",
       "2 -0.4800047                          -0.04976185  0.4290518    Portuguese\n",
       "3  0.5896411                          -0.19341918 -0.5121953    Albanian  "
      ]
     },
     "metadata": {},
     "output_type": "display_data"
    }
   ],
   "source": [
    "head(nodes, 3)"
   ]
  },
  {
   "cell_type": "code",
   "execution_count": 7,
   "id": "measured-blast",
   "metadata": {},
   "outputs": [],
   "source": [
    "numerical_columns = colnames(nodes)[unlist(lapply(nodes, is.numeric))]\n",
    "categorical_columns = colnames(nodes)[!unlist(lapply(nodes, is.numeric))]\n",
    "categorical_columns = categorical_columns[categorical_columns != 'country_iso3']"
   ]
  },
  {
   "cell_type": "code",
   "execution_count": 8,
   "id": "competent-contrary",
   "metadata": {},
   "outputs": [],
   "source": [
    "dyads = matrix(0, nrow = n_countries, ncol = n_countries)\n",
    "nodecovs = array(\n",
    "    rep(0, length(numerical_columns)*n_countries*n_countries), \n",
    "    c(length(numerical_columns), n_countries, n_countries)\n",
    ")\n",
    "absdiffs = array(\n",
    "    rep(0, length(numerical_columns)*n_countries*n_countries), \n",
    "    c(length(numerical_columns), n_countries, n_countries)\n",
    ")\n",
    "nodematchs = array(\n",
    "    rep(0, length(categorical_columns)*n_countries*n_countries), \n",
    "    c(length(categorical_columns), n_countries, n_countries)\n",
    ")"
   ]
  },
  {
   "cell_type": "code",
   "execution_count": 9,
   "id": "solved-carolina",
   "metadata": {},
   "outputs": [],
   "source": [
    "for (i in 1:n_countries) {\n",
    "    for (j in 1:n_countries) {\n",
    "        if (sum(edges$source == nodes$country_iso3[i] & edges$target == nodes$country_iso3[j])) {\n",
    "            dyads[i, j] = 1\n",
    "        }    \n",
    "        for (k in 1:length(numerical_columns)) {\n",
    "            nodecovs[k, i, j] = nodes[i, numerical_columns[k]] + nodes[j, numerical_columns[k]]\n",
    "            absdiffs[k, i, j] = abs(nodes[i, numerical_columns[k]] - nodes[j, numerical_columns[k]])\n",
    "        }\n",
    "        for (k in 1:length(categorical_columns)) {\n",
    "            if (nodes[i, categorical_columns[k]] == nodes[j, categorical_columns[k]]) {\n",
    "                 nodematchs[k, i, j] = 1   \n",
    "            }\n",
    "        }\n",
    "    }\n",
    "}"
   ]
  },
  {
   "cell_type": "code",
   "execution_count": 10,
   "id": "french-inspiration",
   "metadata": {},
   "outputs": [],
   "source": [
    "df = data.frame(\n",
    "    edge = as.vector(t(dyads))\n",
    ")"
   ]
  },
  {
   "cell_type": "code",
   "execution_count": 11,
   "id": "hybrid-circulation",
   "metadata": {},
   "outputs": [],
   "source": [
    "for (k in 1:length(numerical_columns)) {\n",
    "    df[, paste('nodecov-',numerical_columns[k], sep = '')] = as.vector(t(nodecovs[k,,]))\n",
    "}\n",
    "for (k in 1:length(numerical_columns)) {\n",
    "    df[, paste('absdiff-',numerical_columns[k], sep = '')] = as.vector(t(absdiffs[k,,]))\n",
    "}\n",
    "for (k in 1:length(categorical_columns)) {\n",
    "    df[, paste('nodematch-',categorical_columns[k], sep = '')] = as.vector(t(nodematchs[k,,]))\n",
    "}"
   ]
  },
  {
   "cell_type": "code",
   "execution_count": 12,
   "id": "spectacular-category",
   "metadata": {},
   "outputs": [],
   "source": [
    "self_loops_indices = matrix(0, nrow = n_countries)\n",
    "for (i in 1:n_countries) {\n",
    "    self_loops_indices[i] = 1 + n_countries*(i - 1) + (i - 1)\n",
    "}"
   ]
  },
  {
   "cell_type": "code",
   "execution_count": 13,
   "id": "convinced-warehouse",
   "metadata": {},
   "outputs": [],
   "source": [
    "df = df[-self_loops_indices, ]"
   ]
  },
  {
   "cell_type": "code",
   "execution_count": 17,
   "id": "remarkable-poetry",
   "metadata": {},
   "outputs": [
    {
     "name": "stderr",
     "output_type": "stream",
     "text": [
      "Warning message:\n",
      "“glm.fit: fitted probabilities numerically 0 or 1 occurred”\n"
     ]
    }
   ],
   "source": [
    "set.seed(19746)\n",
    "model = glm(edge ~ ., data = df, family = 'binomial', control=glm.control(maxit=50))"
   ]
  },
  {
   "cell_type": "code",
   "execution_count": 18,
   "id": "casual-attraction",
   "metadata": {},
   "outputs": [
    {
     "data": {
      "text/plain": [
       "\n",
       "Call:\n",
       "glm(formula = edge ~ ., family = \"binomial\", data = df, control = glm.control(maxit = 50))\n",
       "\n",
       "Deviance Residuals: \n",
       "    Min       1Q   Median       3Q      Max  \n",
       "-0.9540  -0.5618  -0.4751  -0.3525   2.7894  \n",
       "\n",
       "Coefficients:\n",
       "                                              Estimate Std. Error z value\n",
       "(Intercept)                                   -2.98575    0.14430 -20.692\n",
       "`nodecov-net_barter_of_trade`                  0.08481    0.01894   4.479\n",
       "`nodecov-inflation_rate`                      -0.04013    0.02598  -1.545\n",
       "`nodecov-merchandise_of_gdp`                   0.06380    0.01986   3.212\n",
       "`nodecov-foreign_direct_investment_inflows`   -2.19540    0.22848  -9.609\n",
       "`nodecov-industry_of_gdp`                      0.09144    0.02343   3.903\n",
       "`nodecov-agriculture_forestry_fishing_of_gdp` -0.04796    0.02391  -2.006\n",
       "`nodecov-gdp_growth`                           0.01544    0.02092   0.738\n",
       "`nodecov-gdp_us_dollar`                       -0.05454    0.01970  -2.769\n",
       "`absdiff-net_barter_of_trade`                 -0.10364    0.02526  -4.102\n",
       "`absdiff-inflation_rate`                       0.01360    0.03169   0.429\n",
       "`absdiff-merchandise_of_gdp`                  -0.01635    0.02650  -0.617\n",
       "`absdiff-foreign_direct_investment_inflows`    1.95522    0.23057   8.480\n",
       "`absdiff-industry_of_gdp`                     -0.14675    0.02811  -5.221\n",
       "`absdiff-agriculture_forestry_fishing_of_gdp`  0.07812    0.02889   2.704\n",
       "`absdiff-gdp_growth`                          -0.05954    0.02570  -2.317\n",
       "`absdiff-gdp_us_dollar`                        0.30120    0.02560  11.767\n",
       "`nodematch-continent`                         -0.52514    0.05335  -9.842\n",
       "`nodematch-landlocked`                        -0.27423    0.04002  -6.852\n",
       "`nodematch-langoff_1`                         -0.18868    0.07136  -2.644\n",
       "                                              Pr(>|z|)    \n",
       "(Intercept)                                    < 2e-16 ***\n",
       "`nodecov-net_barter_of_trade`                 7.50e-06 ***\n",
       "`nodecov-inflation_rate`                       0.12246    \n",
       "`nodecov-merchandise_of_gdp`                   0.00132 ** \n",
       "`nodecov-foreign_direct_investment_inflows`    < 2e-16 ***\n",
       "`nodecov-industry_of_gdp`                     9.51e-05 ***\n",
       "`nodecov-agriculture_forestry_fishing_of_gdp`  0.04490 *  \n",
       "`nodecov-gdp_growth`                           0.46054    \n",
       "`nodecov-gdp_us_dollar`                        0.00562 ** \n",
       "`absdiff-net_barter_of_trade`                 4.09e-05 ***\n",
       "`absdiff-inflation_rate`                       0.66773    \n",
       "`absdiff-merchandise_of_gdp`                   0.53714    \n",
       "`absdiff-foreign_direct_investment_inflows`    < 2e-16 ***\n",
       "`absdiff-industry_of_gdp`                     1.78e-07 ***\n",
       "`absdiff-agriculture_forestry_fishing_of_gdp`  0.00686 ** \n",
       "`absdiff-gdp_growth`                           0.02050 *  \n",
       "`absdiff-gdp_us_dollar`                        < 2e-16 ***\n",
       "`nodematch-continent`                          < 2e-16 ***\n",
       "`nodematch-landlocked`                        7.28e-12 ***\n",
       "`nodematch-langoff_1`                          0.00819 ** \n",
       "---\n",
       "Signif. codes:  0 ‘***’ 0.001 ‘**’ 0.01 ‘*’ 0.05 ‘.’ 0.1 ‘ ’ 1\n",
       "\n",
       "(Dispersion parameter for binomial family taken to be 1)\n",
       "\n",
       "    Null deviance: 20093  on 27389  degrees of freedom\n",
       "Residual deviance: 19272  on 27370  degrees of freedom\n",
       "AIC: 19312\n",
       "\n",
       "Number of Fisher Scoring iterations: 6\n"
      ]
     },
     "metadata": {},
     "output_type": "display_data"
    }
   ],
   "source": [
    "summary(model)"
   ]
  },
  {
   "cell_type": "code",
   "execution_count": 19,
   "id": "atomic-ethics",
   "metadata": {},
   "outputs": [],
   "source": [
    "p_values = coef(summary(model))[,'Pr(>|z|)']\n",
    "p_values = unname(p_values)\n",
    "names = colnames(df)\n",
    "names[1] = 'intercept'"
   ]
  },
  {
   "cell_type": "code",
   "execution_count": 20,
   "id": "first-philadelphia",
   "metadata": {},
   "outputs": [],
   "source": [
    "significant_indices = which(p_values < .1)"
   ]
  },
  {
   "cell_type": "code",
   "execution_count": 21,
   "id": "resistant-testimony",
   "metadata": {},
   "outputs": [],
   "source": [
    "p_values = p_values[significant_indices]\n",
    "names = names[significant_indices]"
   ]
  },
  {
   "cell_type": "code",
   "execution_count": 22,
   "id": "familiar-specialist",
   "metadata": {},
   "outputs": [],
   "source": [
    "result_df = data.frame(\n",
    "    effect = names, \n",
    "    significance = p_values\n",
    ")"
   ]
  },
  {
   "cell_type": "code",
   "execution_count": 23,
   "id": "seventh-cleaner",
   "metadata": {},
   "outputs": [],
   "source": [
    "write.csv(result_df, '../reports/gravity_model_results.csv', row.names = F)"
   ]
  }
 ],
 "metadata": {
  "kernelspec": {
   "display_name": "R",
   "language": "R",
   "name": "ir"
  },
  "language_info": {
   "codemirror_mode": "r",
   "file_extension": ".r",
   "mimetype": "text/x-r-source",
   "name": "R",
   "pygments_lexer": "r",
   "version": "4.1.1"
  }
 },
 "nbformat": 4,
 "nbformat_minor": 5
}
