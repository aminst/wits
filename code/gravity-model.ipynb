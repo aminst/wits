{
 "cells": [
  {
   "cell_type": "code",
   "execution_count": 31,
   "id": "numerical-buddy",
   "metadata": {},
   "outputs": [],
   "source": [
    "edges = read.csv('../data/edgelist_2011.csv')\n",
    "nodes = read.csv('../data/nodelist_2011.csv')"
   ]
  },
  {
   "cell_type": "code",
   "execution_count": 44,
   "id": "martial-governor",
   "metadata": {},
   "outputs": [
    {
     "data": {
      "text/html": [
       "<table class=\"dataframe\">\n",
       "<caption>A data.frame: 3 × 9</caption>\n",
       "<thead>\n",
       "\t<tr><th></th><th scope=col>country_iso3</th><th scope=col>colonizer</th><th scope=col>inflation_rate</th><th scope=col>area</th><th scope=col>gdp_us_dollar</th><th scope=col>langoff_1</th><th scope=col>continent</th><th scope=col>gdp_growth</th><th scope=col>landlocked</th></tr>\n",
       "\t<tr><th></th><th scope=col>&lt;chr&gt;</th><th scope=col>&lt;chr&gt;</th><th scope=col>&lt;dbl&gt;</th><th scope=col>&lt;int&gt;</th><th scope=col>&lt;dbl&gt;</th><th scope=col>&lt;chr&gt;</th><th scope=col>&lt;chr&gt;</th><th scope=col>&lt;dbl&gt;</th><th scope=col>&lt;int&gt;</th></tr>\n",
       "</thead>\n",
       "<tbody>\n",
       "\t<tr><th scope=row>1</th><td>AFG</td><td>USA </td><td>11.804186</td><td> 652225</td><td> 17804292964</td><td>Persian   </td><td>Asia  </td><td>0.4263548</td><td>1</td></tr>\n",
       "\t<tr><th scope=row>2</th><td>AGO</td><td>PRT </td><td>13.482468</td><td>1246700</td><td>111789686464</td><td>Portuguese</td><td>Africa</td><td>3.4719763</td><td>0</td></tr>\n",
       "\t<tr><th scope=row>3</th><td>ALB</td><td>NONE</td><td> 3.429123</td><td>  28748</td><td> 12890765324</td><td>Albanian  </td><td>Europe</td><td>2.5453218</td><td>0</td></tr>\n",
       "</tbody>\n",
       "</table>\n"
      ],
      "text/latex": [
       "A data.frame: 3 × 9\n",
       "\\begin{tabular}{r|lllllllll}\n",
       "  & country\\_iso3 & colonizer & inflation\\_rate & area & gdp\\_us\\_dollar & langoff\\_1 & continent & gdp\\_growth & landlocked\\\\\n",
       "  & <chr> & <chr> & <dbl> & <int> & <dbl> & <chr> & <chr> & <dbl> & <int>\\\\\n",
       "\\hline\n",
       "\t1 & AFG & USA  & 11.804186 &  652225 &  17804292964 & Persian    & Asia   & 0.4263548 & 1\\\\\n",
       "\t2 & AGO & PRT  & 13.482468 & 1246700 & 111789686464 & Portuguese & Africa & 3.4719763 & 0\\\\\n",
       "\t3 & ALB & NONE &  3.429123 &   28748 &  12890765324 & Albanian   & Europe & 2.5453218 & 0\\\\\n",
       "\\end{tabular}\n"
      ],
      "text/markdown": [
       "\n",
       "A data.frame: 3 × 9\n",
       "\n",
       "| <!--/--> | country_iso3 &lt;chr&gt; | colonizer &lt;chr&gt; | inflation_rate &lt;dbl&gt; | area &lt;int&gt; | gdp_us_dollar &lt;dbl&gt; | langoff_1 &lt;chr&gt; | continent &lt;chr&gt; | gdp_growth &lt;dbl&gt; | landlocked &lt;int&gt; |\n",
       "|---|---|---|---|---|---|---|---|---|---|\n",
       "| 1 | AFG | USA  | 11.804186 |  652225 |  17804292964 | Persian    | Asia   | 0.4263548 | 1 |\n",
       "| 2 | AGO | PRT  | 13.482468 | 1246700 | 111789686464 | Portuguese | Africa | 3.4719763 | 0 |\n",
       "| 3 | ALB | NONE |  3.429123 |   28748 |  12890765324 | Albanian   | Europe | 2.5453218 | 0 |\n",
       "\n"
      ],
      "text/plain": [
       "  country_iso3 colonizer inflation_rate area    gdp_us_dollar langoff_1 \n",
       "1 AFG          USA       11.804186       652225  17804292964  Persian   \n",
       "2 AGO          PRT       13.482468      1246700 111789686464  Portuguese\n",
       "3 ALB          NONE       3.429123        28748  12890765324  Albanian  \n",
       "  continent gdp_growth landlocked\n",
       "1 Asia      0.4263548  1         \n",
       "2 Africa    3.4719763  0         \n",
       "3 Europe    2.5453218  0         "
      ]
     },
     "metadata": {},
     "output_type": "display_data"
    }
   ],
   "source": [
    "head(nodes, 3)"
   ]
  },
  {
   "cell_type": "code",
   "execution_count": 47,
   "id": "latest-hudson",
   "metadata": {},
   "outputs": [],
   "source": [
    "n_countries = dim(nodes)[1]\n",
    "dyads = matrix(0, nrow = n_countries, ncol = n_countries)\n",
    "nodecovs = matrix(0, nrow = n_countries, ncol = n_countries)\n",
    "numerical_columns = c('inflation_rate', 'gdp_us_dollar', 'gdp_growth')\n",
    "categorical_columns = c('colonizer', 'langoff_1', 'landlocked', 'continent')"
   ]
  },
  {
   "cell_type": "code",
   "execution_count": 33,
   "id": "consistent-uncle",
   "metadata": {},
   "outputs": [],
   "source": [
    "for (i in 1:n_countries) {\n",
    "    for (j in 1:n_countries) {\n",
    "        if (sum(edges$source == nodes$country_iso3[i] & edges$target == nodes$country_iso3[j])) {\n",
    "            dyads[i, j] = 1\n",
    "        }\n",
    "        for (k in 1:length(numerical_columns)) {\n",
    "            dyad\n",
    "        }\n",
    "    }\n",
    "}"
   ]
  },
  {
   "cell_type": "code",
   "execution_count": 42,
   "id": "median-michael",
   "metadata": {},
   "outputs": [],
   "source": [
    "dyads.flatten = as.vector(t(dyads))"
   ]
  },
  {
   "cell_type": "code",
   "execution_count": null,
   "id": "invalid-taste",
   "metadata": {},
   "outputs": [],
   "source": []
  }
 ],
 "metadata": {
  "kernelspec": {
   "display_name": "R",
   "language": "R",
   "name": "ir"
  },
  "language_info": {
   "codemirror_mode": "r",
   "file_extension": ".r",
   "mimetype": "text/x-r-source",
   "name": "R",
   "pygments_lexer": "r",
   "version": "4.0.3"
  }
 },
 "nbformat": 4,
 "nbformat_minor": 5
}
