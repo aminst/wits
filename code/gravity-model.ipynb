{
 "cells": [
  {
   "cell_type": "code",
   "execution_count": 261,
   "id": "jewish-lesson",
   "metadata": {},
   "outputs": [],
   "source": [
    "edges = read.csv('../data/2011/edgelist.csv')\n",
    "nodes = read.csv('../data/2011/nodelist.csv')"
   ]
  },
  {
   "cell_type": "code",
   "execution_count": 262,
   "id": "configured-passage",
   "metadata": {},
   "outputs": [],
   "source": [
    "nodes = transform(nodes, landlocked=as.factor(landlocked))"
   ]
  },
  {
   "cell_type": "code",
   "execution_count": 263,
   "id": "complete-enclosure",
   "metadata": {},
   "outputs": [],
   "source": [
    "nodes$gdp_us_dollar <- log(nodes$gdp_us_dollar)\n",
    "nodes$area <- log(nodes$area)\n",
    "nodes$population <- log(nodes$population)\n",
    "nodes$gdp_per_capita <- log(nodes$gdp_per_capita)\n",
    "nodes$gni_atlas <- log(nodes$gni_atlas)"
   ]
  },
  {
   "cell_type": "code",
   "execution_count": 264,
   "id": "abstract-tobago",
   "metadata": {},
   "outputs": [],
   "source": [
    "nodes$gdp_us_dollar = as.numeric(scale(nodes$gdp_us_dollar))\n",
    "nodes$gdp_growth = as.numeric(scale(nodes$gdp_growth))\n",
    "nodes$inflation_rate = as.numeric(scale(nodes$inflation_rate))\n",
    "nodes$population = as.numeric(scale(nodes$population))\n",
    "nodes$gdp_per_capita = as.numeric(scale(nodes$gdp_per_capita))\n",
    "nodes$life_expectancy = as.numeric(scale(nodes$life_expectancy))\n",
    "nodes$gni_atlas = as.numeric(scale(nodes$gni_atlas))\n",
    "nodes$agriculture_forestry_fishing_of_gdp = as.numeric(scale(nodes$agriculture_forestry_fishing_of_gdp))\n",
    "nodes$industry_of_gdp = as.numeric(scale(nodes$industry_of_gdp))\n",
    "nodes$merchandise_of_gdp = as.numeric(scale(nodes$merchandise_of_gdp))\n",
    "nodes$net_barrier_of_trade = as.numeric(scale(nodes$net_barrier_of_trade))\n",
    "nodes$foreign_direct_investment_inflows = as.numeric(scale(nodes$foreign_direct_investment_inflows))\n",
    "nodes$happiness = as.numeric(scale(nodes$happiness))"
   ]
  },
  {
   "cell_type": "code",
   "execution_count": 265,
   "id": "infrared-bronze",
   "metadata": {},
   "outputs": [
    {
     "data": {
      "text/html": [
       "<table class=\"dataframe\">\n",
       "<caption>A data.frame: 3 × 19</caption>\n",
       "<thead>\n",
       "\t<tr><th></th><th scope=col>country_iso3</th><th scope=col>foreign_direct_investment_inflows</th><th scope=col>colonizer</th><th scope=col>agriculture_forestry_fishing_of_gdp</th><th scope=col>net_barrier_of_trade</th><th scope=col>gdp_growth</th><th scope=col>inflation_rate</th><th scope=col>gdp_us_dollar</th><th scope=col>continent</th><th scope=col>area</th><th scope=col>happiness</th><th scope=col>life_expectancy</th><th scope=col>gni_atlas</th><th scope=col>landlocked</th><th scope=col>merchandise_of_gdp</th><th scope=col>population</th><th scope=col>industry_of_gdp</th><th scope=col>langoff_1</th><th scope=col>gdp_per_capita</th></tr>\n",
       "\t<tr><th></th><th scope=col>&lt;chr&gt;</th><th scope=col>&lt;dbl&gt;</th><th scope=col>&lt;chr&gt;</th><th scope=col>&lt;dbl&gt;</th><th scope=col>&lt;dbl&gt;</th><th scope=col>&lt;dbl&gt;</th><th scope=col>&lt;dbl&gt;</th><th scope=col>&lt;dbl&gt;</th><th scope=col>&lt;chr&gt;</th><th scope=col>&lt;dbl&gt;</th><th scope=col>&lt;dbl&gt;</th><th scope=col>&lt;dbl&gt;</th><th scope=col>&lt;dbl&gt;</th><th scope=col>&lt;fct&gt;</th><th scope=col>&lt;dbl&gt;</th><th scope=col>&lt;dbl&gt;</th><th scope=col>&lt;dbl&gt;</th><th scope=col>&lt;chr&gt;</th><th scope=col>&lt;dbl&gt;</th></tr>\n",
       "</thead>\n",
       "<tbody>\n",
       "\t<tr><th scope=row>1</th><td>AFG</td><td>-0.3281748</td><td>USA </td><td> 1.0489473</td><td> 0.1520729</td><td>-0.50491108</td><td> 0.7633134</td><td>-0.7224803</td><td>Asia  </td><td>13.38814</td><td> 0.2281430</td><td>-1.023194</td><td>-0.7252517</td><td>1</td><td>-0.8511799</td><td> 0.5813344</td><td>-0.4905843</td><td>Persian   </td><td>-1.5109274</td></tr>\n",
       "\t<tr><th scope=row>2</th><td>AGO</td><td>-0.3951331</td><td>PRT </td><td>-0.4737484</td><td> 1.8249821</td><td>-0.05496927</td><td> 1.0187255</td><td> 0.2174899</td><td>Africa</td><td>14.03601</td><td> 0.1461749</td><td>-1.604665</td><td> 0.1116836</td><td>0</td><td> 0.1773835</td><td> 0.4379398</td><td> 1.8543603</td><td>Portuguese</td><td>-0.1590264</td></tr>\n",
       "\t<tr><th scope=row>3</th><td>ALB</td><td>-0.3064818</td><td>NONE</td><td> 0.5795895</td><td>-0.6948990</td><td>-0.19186763</td><td>-0.5112593</td><td>-0.8877026</td><td>Europe</td><td>10.26632</td><td>-0.7365583</td><td> 0.686930</td><td>-0.8416688</td><td>0</td><td>-0.3795621</td><td>-0.9576597</td><td>-0.3677123</td><td>Albanian  </td><td>-0.1849468</td></tr>\n",
       "</tbody>\n",
       "</table>\n"
      ],
      "text/latex": [
       "A data.frame: 3 × 19\n",
       "\\begin{tabular}{r|lllllllllllllllllll}\n",
       "  & country\\_iso3 & foreign\\_direct\\_investment\\_inflows & colonizer & agriculture\\_forestry\\_fishing\\_of\\_gdp & net\\_barrier\\_of\\_trade & gdp\\_growth & inflation\\_rate & gdp\\_us\\_dollar & continent & area & happiness & life\\_expectancy & gni\\_atlas & landlocked & merchandise\\_of\\_gdp & population & industry\\_of\\_gdp & langoff\\_1 & gdp\\_per\\_capita\\\\\n",
       "  & <chr> & <dbl> & <chr> & <dbl> & <dbl> & <dbl> & <dbl> & <dbl> & <chr> & <dbl> & <dbl> & <dbl> & <dbl> & <fct> & <dbl> & <dbl> & <dbl> & <chr> & <dbl>\\\\\n",
       "\\hline\n",
       "\t1 & AFG & -0.3281748 & USA  &  1.0489473 &  0.1520729 & -0.50491108 &  0.7633134 & -0.7224803 & Asia   & 13.38814 &  0.2281430 & -1.023194 & -0.7252517 & 1 & -0.8511799 &  0.5813344 & -0.4905843 & Persian    & -1.5109274\\\\\n",
       "\t2 & AGO & -0.3951331 & PRT  & -0.4737484 &  1.8249821 & -0.05496927 &  1.0187255 &  0.2174899 & Africa & 14.03601 &  0.1461749 & -1.604665 &  0.1116836 & 0 &  0.1773835 &  0.4379398 &  1.8543603 & Portuguese & -0.1590264\\\\\n",
       "\t3 & ALB & -0.3064818 & NONE &  0.5795895 & -0.6948990 & -0.19186763 & -0.5112593 & -0.8877026 & Europe & 10.26632 & -0.7365583 &  0.686930 & -0.8416688 & 0 & -0.3795621 & -0.9576597 & -0.3677123 & Albanian   & -0.1849468\\\\\n",
       "\\end{tabular}\n"
      ],
      "text/markdown": [
       "\n",
       "A data.frame: 3 × 19\n",
       "\n",
       "| <!--/--> | country_iso3 &lt;chr&gt; | foreign_direct_investment_inflows &lt;dbl&gt; | colonizer &lt;chr&gt; | agriculture_forestry_fishing_of_gdp &lt;dbl&gt; | net_barrier_of_trade &lt;dbl&gt; | gdp_growth &lt;dbl&gt; | inflation_rate &lt;dbl&gt; | gdp_us_dollar &lt;dbl&gt; | continent &lt;chr&gt; | area &lt;dbl&gt; | happiness &lt;dbl&gt; | life_expectancy &lt;dbl&gt; | gni_atlas &lt;dbl&gt; | landlocked &lt;fct&gt; | merchandise_of_gdp &lt;dbl&gt; | population &lt;dbl&gt; | industry_of_gdp &lt;dbl&gt; | langoff_1 &lt;chr&gt; | gdp_per_capita &lt;dbl&gt; |\n",
       "|---|---|---|---|---|---|---|---|---|---|---|---|---|---|---|---|---|---|---|---|\n",
       "| 1 | AFG | -0.3281748 | USA  |  1.0489473 |  0.1520729 | -0.50491108 |  0.7633134 | -0.7224803 | Asia   | 13.38814 |  0.2281430 | -1.023194 | -0.7252517 | 1 | -0.8511799 |  0.5813344 | -0.4905843 | Persian    | -1.5109274 |\n",
       "| 2 | AGO | -0.3951331 | PRT  | -0.4737484 |  1.8249821 | -0.05496927 |  1.0187255 |  0.2174899 | Africa | 14.03601 |  0.1461749 | -1.604665 |  0.1116836 | 0 |  0.1773835 |  0.4379398 |  1.8543603 | Portuguese | -0.1590264 |\n",
       "| 3 | ALB | -0.3064818 | NONE |  0.5795895 | -0.6948990 | -0.19186763 | -0.5112593 | -0.8877026 | Europe | 10.26632 | -0.7365583 |  0.686930 | -0.8416688 | 0 | -0.3795621 | -0.9576597 | -0.3677123 | Albanian   | -0.1849468 |\n",
       "\n"
      ],
      "text/plain": [
       "  country_iso3 foreign_direct_investment_inflows colonizer\n",
       "1 AFG          -0.3281748                        USA      \n",
       "2 AGO          -0.3951331                        PRT      \n",
       "3 ALB          -0.3064818                        NONE     \n",
       "  agriculture_forestry_fishing_of_gdp net_barrier_of_trade gdp_growth \n",
       "1  1.0489473                           0.1520729           -0.50491108\n",
       "2 -0.4737484                           1.8249821           -0.05496927\n",
       "3  0.5795895                          -0.6948990           -0.19186763\n",
       "  inflation_rate gdp_us_dollar continent area     happiness  life_expectancy\n",
       "1  0.7633134     -0.7224803    Asia      13.38814  0.2281430 -1.023194      \n",
       "2  1.0187255      0.2174899    Africa    14.03601  0.1461749 -1.604665      \n",
       "3 -0.5112593     -0.8877026    Europe    10.26632 -0.7365583  0.686930      \n",
       "  gni_atlas  landlocked merchandise_of_gdp population industry_of_gdp\n",
       "1 -0.7252517 1          -0.8511799          0.5813344 -0.4905843     \n",
       "2  0.1116836 0           0.1773835          0.4379398  1.8543603     \n",
       "3 -0.8416688 0          -0.3795621         -0.9576597 -0.3677123     \n",
       "  langoff_1  gdp_per_capita\n",
       "1 Persian    -1.5109274    \n",
       "2 Portuguese -0.1590264    \n",
       "3 Albanian   -0.1849468    "
      ]
     },
     "metadata": {},
     "output_type": "display_data"
    }
   ],
   "source": [
    "head(nodes, 3)"
   ]
  },
  {
   "cell_type": "code",
   "execution_count": 266,
   "id": "rolled-protest",
   "metadata": {},
   "outputs": [],
   "source": [
    "n_countries = dim(nodes)[1]\n",
    "dyads = matrix(0, nrow = n_countries, ncol = n_countries)\n",
    "nodecovs = array(\n",
    "    rep(0, length(numerical_columns)*n_countries*n_countries), \n",
    "    c(length(numerical_columns), n_countries, n_countries)\n",
    ")\n",
    "absdiffs = array(\n",
    "    rep(0, length(numerical_columns)*n_countries*n_countries), \n",
    "    c(length(numerical_columns), n_countries, n_countries)\n",
    ")\n",
    "nodematchs = array(\n",
    "    rep(0, length(categorical_columns)*n_countries*n_countries), \n",
    "    c(length(categorical_columns), n_countries, n_countries)\n",
    ")"
   ]
  },
  {
   "cell_type": "code",
   "execution_count": 267,
   "id": "illegal-cemetery",
   "metadata": {},
   "outputs": [],
   "source": [
    "for (i in 1:n_countries) {\n",
    "    for (j in i:n_countries) {\n",
    "        if (sum(edges$source == nodes$country_iso3[i] & edges$target == nodes$country_iso3[j])) {\n",
    "            dyads[i, j] = 1\n",
    "        }    \n",
    "        for (k in 1:length(numerical_columns)) {\n",
    "            nodecovs[k, i, j] = nodes[i, numerical_columns[k]] + nodes[j, numerical_columns[k]]\n",
    "            absdiffs[k, i, j] = abs(nodes[i, numerical_columns[k]] - nodes[j, numerical_columns[k]])\n",
    "        }\n",
    "        for (k in 1:length(categorical_columns)) {\n",
    "            if (nodes[i, categorical_columns[k]] == nodes[j, categorical_columns[k]])\n",
    "            nodematchs[k, i, j] = 1\n",
    "        }\n",
    "    }\n",
    "}"
   ]
  },
  {
   "cell_type": "code",
   "execution_count": 268,
   "id": "working-apache",
   "metadata": {},
   "outputs": [],
   "source": [
    "df = data.frame(\n",
    "    edge = as.vector(t(dyads))\n",
    ")"
   ]
  },
  {
   "cell_type": "code",
   "execution_count": 269,
   "id": "assisted-rocket",
   "metadata": {},
   "outputs": [],
   "source": [
    "for (k in 1:length(numerical_columns)) {\n",
    "    df[, paste('nodecov-',numerical_columns[k], sep = '')] = as.vector(t(nodecovs[k,,]))\n",
    "}\n",
    "for (k in 1:length(numerical_columns)) {\n",
    "    df[, paste('absdiff-',numerical_columns[k], sep = '')] = as.vector(t(absdiffs[k,,]))\n",
    "}\n",
    "for (k in 1:length(categorical_columns)) {\n",
    "    df[, paste('nodematch-',categorical_columns[k], sep = '')] = as.vector(t(nodematchs[k,,]))\n",
    "}"
   ]
  },
  {
   "cell_type": "code",
   "execution_count": 278,
   "id": "coordinated-designer",
   "metadata": {},
   "outputs": [],
   "source": [
    "self_loops_indices = matrix(0, nrow = n_countries)\n",
    "for (i in 1:n_countries) {\n",
    "    self_loops_indices[i] = 1 + 142*(i - 1) + (i - 1)\n",
    "}"
   ]
  },
  {
   "cell_type": "code",
   "execution_count": 281,
   "id": "mental-length",
   "metadata": {},
   "outputs": [],
   "source": [
    "df = df[-self_loops_indices, ]"
   ]
  },
  {
   "cell_type": "code",
   "execution_count": 284,
   "id": "female-moderator",
   "metadata": {},
   "outputs": [
    {
     "name": "stderr",
     "output_type": "stream",
     "text": [
      "Warning message:\n",
      "\"glm.fit: fitted probabilities numerically 0 or 1 occurred\"\n"
     ]
    }
   ],
   "source": [
    "model = glm(edge ~ ., data = df, family = 'binomial', control=glm.control(maxit=50))"
   ]
  },
  {
   "cell_type": "code",
   "execution_count": 285,
   "id": "sustainable-sherman",
   "metadata": {},
   "outputs": [
    {
     "data": {
      "text/plain": [
       "\n",
       "Call:\n",
       "glm(formula = edge ~ ., family = \"binomial\", data = df, control = glm.control(maxit = 50))\n",
       "\n",
       "Deviance Residuals: \n",
       "     Min        1Q    Median        3Q       Max  \n",
       "-1.35203  -0.46994  -0.04776  -0.04776   3.00954  \n",
       "\n",
       "Coefficients:\n",
       "                                              Estimate Std. Error z value\n",
       "(Intercept)                                   -6.77582    0.26137 -25.924\n",
       "`nodecov-foreign_direct_investment_inflows`   -2.29342    0.33875  -6.770\n",
       "`nodecov-agriculture_forestry_fishing_of_gdp` -0.05589    0.05514  -1.014\n",
       "`nodecov-net_barrier_of_trade`                 0.02053    0.03200   0.642\n",
       "`nodecov-gdp_growth`                           0.04739    0.03208   1.477\n",
       "`nodecov-inflation_rate`                      -0.00888    0.04254  -0.209\n",
       "`nodecov-gdp_us_dollar`                       -2.65183    1.62561  -1.631\n",
       "`nodecov-area`                                 0.13767    0.01202  11.449\n",
       "`nodecov-happiness`                            0.05566    0.02546   2.186\n",
       "`nodecov-life_expectancy`                      0.16062    0.05069   3.169\n",
       "`nodecov-gni_atlas`                           -0.33361    0.54176  -0.616\n",
       "`nodecov-merchandise_of_gdp`                   0.08680    0.03383   2.566\n",
       "`nodecov-population`                           2.00215    1.20612   1.660\n",
       "`nodecov-industry_of_gdp`                      0.07127    0.03919   1.819\n",
       "`nodecov-gdp_per_capita`                       2.00329    1.20800   1.658\n",
       "`absdiff-foreign_direct_investment_inflows`    1.82177    0.34740   5.244\n",
       "`absdiff-agriculture_forestry_fishing_of_gdp`  0.06876    0.05986   1.149\n",
       "`absdiff-net_barrier_of_trade`                -0.04052    0.03980  -1.018\n",
       "`absdiff-gdp_growth`                          -0.03312    0.03859  -0.858\n",
       "`absdiff-inflation_rate`                      -0.02133    0.05161  -0.413\n",
       "`absdiff-gdp_us_dollar`                       -0.10751    0.46047  -0.233\n",
       "`absdiff-area`                                 0.05111    0.02150   2.377\n",
       "`absdiff-happiness`                            0.10512    0.03805   2.763\n",
       "`absdiff-life_expectancy`                      0.16942    0.05622   3.013\n",
       "`absdiff-gni_atlas`                            0.24166    0.46040   0.525\n",
       "`absdiff-merchandise_of_gdp`                  -0.06202    0.04371  -1.419\n",
       "`absdiff-population`                           0.10288    0.04357   2.361\n",
       "`absdiff-industry_of_gdp`                     -0.07497    0.04427  -1.693\n",
       "`absdiff-gdp_per_capita`                       0.11301    0.06146   1.839\n",
       "`nodematch-colonizer`                          0.18917    0.07408   2.553\n",
       "`nodematch-continent`                         -0.63589    0.08894  -7.150\n",
       "`nodematch-landlocked`                        -0.43426    0.06206  -6.997\n",
       "`nodematch-langoff_1`                         -0.10273    0.12398  -0.829\n",
       "                                              Pr(>|z|)    \n",
       "(Intercept)                                    < 2e-16 ***\n",
       "`nodecov-foreign_direct_investment_inflows`   1.29e-11 ***\n",
       "`nodecov-agriculture_forestry_fishing_of_gdp`  0.31073    \n",
       "`nodecov-net_barrier_of_trade`                 0.52118    \n",
       "`nodecov-gdp_growth`                           0.13968    \n",
       "`nodecov-inflation_rate`                       0.83467    \n",
       "`nodecov-gdp_us_dollar`                        0.10283    \n",
       "`nodecov-area`                                 < 2e-16 ***\n",
       "`nodecov-happiness`                            0.02879 *  \n",
       "`nodecov-life_expectancy`                      0.00153 ** \n",
       "`nodecov-gni_atlas`                            0.53802    \n",
       "`nodecov-merchandise_of_gdp`                   0.01030 *  \n",
       "`nodecov-population`                           0.09692 .  \n",
       "`nodecov-industry_of_gdp`                      0.06897 .  \n",
       "`nodecov-gdp_per_capita`                       0.09724 .  \n",
       "`absdiff-foreign_direct_investment_inflows`   1.57e-07 ***\n",
       "`absdiff-agriculture_forestry_fishing_of_gdp`  0.25070    \n",
       "`absdiff-net_barrier_of_trade`                 0.30862    \n",
       "`absdiff-gdp_growth`                           0.39081    \n",
       "`absdiff-inflation_rate`                       0.67936    \n",
       "`absdiff-gdp_us_dollar`                        0.81539    \n",
       "`absdiff-area`                                 0.01745 *  \n",
       "`absdiff-happiness`                            0.00573 ** \n",
       "`absdiff-life_expectancy`                      0.00258 ** \n",
       "`absdiff-gni_atlas`                            0.59966    \n",
       "`absdiff-merchandise_of_gdp`                   0.15590    \n",
       "`absdiff-population`                           0.01821 *  \n",
       "`absdiff-industry_of_gdp`                      0.09036 .  \n",
       "`absdiff-gdp_per_capita`                       0.06597 .  \n",
       "`nodematch-colonizer`                          0.01067 *  \n",
       "`nodematch-continent`                         8.71e-13 ***\n",
       "`nodematch-landlocked`                        2.61e-12 ***\n",
       "`nodematch-langoff_1`                          0.40736    \n",
       "---\n",
       "Signif. codes:  0 '***' 0.001 '**' 0.01 '*' 0.05 '.' 0.1 ' ' 1\n",
       "\n",
       "(Dispersion parameter for binomial family taken to be 1)\n",
       "\n",
       "    Null deviance: 10578.2  on 20021  degrees of freedom\n",
       "Residual deviance:  7789.9  on 19989  degrees of freedom\n",
       "AIC: 7855.9\n",
       "\n",
       "Number of Fisher Scoring iterations: 9\n"
      ]
     },
     "metadata": {},
     "output_type": "display_data"
    }
   ],
   "source": [
    "summary(model)"
   ]
  }
 ],
 "metadata": {
  "kernelspec": {
   "display_name": "R",
   "language": "R",
   "name": "ir"
  },
  "language_info": {
   "codemirror_mode": "r",
   "file_extension": ".r",
   "mimetype": "text/x-r-source",
   "name": "R",
   "pygments_lexer": "r",
   "version": "4.0.3"
  }
 },
 "nbformat": 4,
 "nbformat_minor": 5
}
