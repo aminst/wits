{
 "cells": [
  {
   "cell_type": "code",
   "execution_count": 113,
   "id": "confidential-settlement",
   "metadata": {},
   "outputs": [],
   "source": [
    "edges = read.csv('../data/2011/edgelist.csv')\n",
    "nodes = read.csv('../data/2011/nodelist.csv')"
   ]
  },
  {
   "cell_type": "code",
   "execution_count": 114,
   "id": "radical-operator",
   "metadata": {},
   "outputs": [],
   "source": [
    "nodes = transform(nodes, landlocked=as.factor(landlocked))"
   ]
  },
  {
   "cell_type": "code",
   "execution_count": 115,
   "id": "combined-rally",
   "metadata": {},
   "outputs": [
    {
     "data": {
      "text/html": [
       "<table class=\"dataframe\">\n",
       "<caption>A data.frame: 3 × 19</caption>\n",
       "<thead>\n",
       "\t<tr><th></th><th scope=col>country_iso3</th><th scope=col>foreign_direct_investment_inflows</th><th scope=col>colonizer</th><th scope=col>agriculture_forestry_fishing_of_gdp</th><th scope=col>net_barrier_of_trade</th><th scope=col>gdp_growth</th><th scope=col>inflation_rate</th><th scope=col>gdp_us_dollar</th><th scope=col>continent</th><th scope=col>area</th><th scope=col>happiness</th><th scope=col>life_expectancy</th><th scope=col>gni_atlas</th><th scope=col>landlocked</th><th scope=col>merchandise_of_gdp</th><th scope=col>population</th><th scope=col>industry_of_gdp</th><th scope=col>langoff_1</th><th scope=col>gdp_per_capita</th></tr>\n",
       "\t<tr><th></th><th scope=col>&lt;chr&gt;</th><th scope=col>&lt;dbl&gt;</th><th scope=col>&lt;chr&gt;</th><th scope=col>&lt;dbl&gt;</th><th scope=col>&lt;dbl&gt;</th><th scope=col>&lt;dbl&gt;</th><th scope=col>&lt;dbl&gt;</th><th scope=col>&lt;dbl&gt;</th><th scope=col>&lt;chr&gt;</th><th scope=col>&lt;int&gt;</th><th scope=col>&lt;dbl&gt;</th><th scope=col>&lt;dbl&gt;</th><th scope=col>&lt;dbl&gt;</th><th scope=col>&lt;fct&gt;</th><th scope=col>&lt;dbl&gt;</th><th scope=col>&lt;int&gt;</th><th scope=col>&lt;dbl&gt;</th><th scope=col>&lt;chr&gt;</th><th scope=col>&lt;dbl&gt;</th></tr>\n",
       "</thead>\n",
       "<tbody>\n",
       "\t<tr><th scope=row>1</th><td>AFG</td><td>   52173421</td><td>USA </td><td>23.743664</td><td>144.7519</td><td>0.4263548</td><td>11.804186</td><td> 17804292964</td><td>Asia  </td><td> 652225</td><td>0.721</td><td>61.553</td><td>16077121256</td><td>1</td><td>38.70415</td><td>30117411</td><td>22.74025</td><td>Persian   </td><td> 591.1628</td></tr>\n",
       "\t<tr><th scope=row>2</th><td>AGO</td><td>-3023770966</td><td>PRT </td><td> 5.845681</td><td>244.3292</td><td>3.4719763</td><td>13.482468</td><td>111789686464</td><td>Africa</td><td>1246700</td><td>0.708</td><td>56.330</td><td>82606027251</td><td>0</td><td>78.30597</td><td>24220660</td><td>56.02651</td><td>Portuguese</td><td>4615.4682</td></tr>\n",
       "\t<tr><th scope=row>3</th><td>ALB</td><td> 1048706682</td><td>NONE</td><td>18.226765</td><td> 94.3372</td><td>2.5453218</td><td> 3.429123</td><td> 12890765324</td><td>Europe</td><td>  28748</td><td>0.568</td><td>76.914</td><td>12803715190</td><td>0</td><td>56.86241</td><td> 2905195</td><td>24.48441</td><td>Albanian  </td><td>4437.1429</td></tr>\n",
       "</tbody>\n",
       "</table>\n"
      ],
      "text/latex": [
       "A data.frame: 3 × 19\n",
       "\\begin{tabular}{r|lllllllllllllllllll}\n",
       "  & country\\_iso3 & foreign\\_direct\\_investment\\_inflows & colonizer & agriculture\\_forestry\\_fishing\\_of\\_gdp & net\\_barrier\\_of\\_trade & gdp\\_growth & inflation\\_rate & gdp\\_us\\_dollar & continent & area & happiness & life\\_expectancy & gni\\_atlas & landlocked & merchandise\\_of\\_gdp & population & industry\\_of\\_gdp & langoff\\_1 & gdp\\_per\\_capita\\\\\n",
       "  & <chr> & <dbl> & <chr> & <dbl> & <dbl> & <dbl> & <dbl> & <dbl> & <chr> & <int> & <dbl> & <dbl> & <dbl> & <fct> & <dbl> & <int> & <dbl> & <chr> & <dbl>\\\\\n",
       "\\hline\n",
       "\t1 & AFG &    52173421 & USA  & 23.743664 & 144.7519 & 0.4263548 & 11.804186 &  17804292964 & Asia   &  652225 & 0.721 & 61.553 & 16077121256 & 1 & 38.70415 & 30117411 & 22.74025 & Persian    &  591.1628\\\\\n",
       "\t2 & AGO & -3023770966 & PRT  &  5.845681 & 244.3292 & 3.4719763 & 13.482468 & 111789686464 & Africa & 1246700 & 0.708 & 56.330 & 82606027251 & 0 & 78.30597 & 24220660 & 56.02651 & Portuguese & 4615.4682\\\\\n",
       "\t3 & ALB &  1048706682 & NONE & 18.226765 &  94.3372 & 2.5453218 &  3.429123 &  12890765324 & Europe &   28748 & 0.568 & 76.914 & 12803715190 & 0 & 56.86241 &  2905195 & 24.48441 & Albanian   & 4437.1429\\\\\n",
       "\\end{tabular}\n"
      ],
      "text/markdown": [
       "\n",
       "A data.frame: 3 × 19\n",
       "\n",
       "| <!--/--> | country_iso3 &lt;chr&gt; | foreign_direct_investment_inflows &lt;dbl&gt; | colonizer &lt;chr&gt; | agriculture_forestry_fishing_of_gdp &lt;dbl&gt; | net_barrier_of_trade &lt;dbl&gt; | gdp_growth &lt;dbl&gt; | inflation_rate &lt;dbl&gt; | gdp_us_dollar &lt;dbl&gt; | continent &lt;chr&gt; | area &lt;int&gt; | happiness &lt;dbl&gt; | life_expectancy &lt;dbl&gt; | gni_atlas &lt;dbl&gt; | landlocked &lt;fct&gt; | merchandise_of_gdp &lt;dbl&gt; | population &lt;int&gt; | industry_of_gdp &lt;dbl&gt; | langoff_1 &lt;chr&gt; | gdp_per_capita &lt;dbl&gt; |\n",
       "|---|---|---|---|---|---|---|---|---|---|---|---|---|---|---|---|---|---|---|---|\n",
       "| 1 | AFG |    52173421 | USA  | 23.743664 | 144.7519 | 0.4263548 | 11.804186 |  17804292964 | Asia   |  652225 | 0.721 | 61.553 | 16077121256 | 1 | 38.70415 | 30117411 | 22.74025 | Persian    |  591.1628 |\n",
       "| 2 | AGO | -3023770966 | PRT  |  5.845681 | 244.3292 | 3.4719763 | 13.482468 | 111789686464 | Africa | 1246700 | 0.708 | 56.330 | 82606027251 | 0 | 78.30597 | 24220660 | 56.02651 | Portuguese | 4615.4682 |\n",
       "| 3 | ALB |  1048706682 | NONE | 18.226765 |  94.3372 | 2.5453218 |  3.429123 |  12890765324 | Europe |   28748 | 0.568 | 76.914 | 12803715190 | 0 | 56.86241 |  2905195 | 24.48441 | Albanian   | 4437.1429 |\n",
       "\n"
      ],
      "text/plain": [
       "  country_iso3 foreign_direct_investment_inflows colonizer\n",
       "1 AFG             52173421                       USA      \n",
       "2 AGO          -3023770966                       PRT      \n",
       "3 ALB           1048706682                       NONE     \n",
       "  agriculture_forestry_fishing_of_gdp net_barrier_of_trade gdp_growth\n",
       "1 23.743664                           144.7519             0.4263548 \n",
       "2  5.845681                           244.3292             3.4719763 \n",
       "3 18.226765                            94.3372             2.5453218 \n",
       "  inflation_rate gdp_us_dollar continent area    happiness life_expectancy\n",
       "1 11.804186       17804292964  Asia       652225 0.721     61.553         \n",
       "2 13.482468      111789686464  Africa    1246700 0.708     56.330         \n",
       "3  3.429123       12890765324  Europe      28748 0.568     76.914         \n",
       "  gni_atlas   landlocked merchandise_of_gdp population industry_of_gdp\n",
       "1 16077121256 1          38.70415           30117411   22.74025       \n",
       "2 82606027251 0          78.30597           24220660   56.02651       \n",
       "3 12803715190 0          56.86241            2905195   24.48441       \n",
       "  langoff_1  gdp_per_capita\n",
       "1 Persian     591.1628     \n",
       "2 Portuguese 4615.4682     \n",
       "3 Albanian   4437.1429     "
      ]
     },
     "metadata": {},
     "output_type": "display_data"
    }
   ],
   "source": [
    "head(nodes, 3)"
   ]
  },
  {
   "cell_type": "code",
   "execution_count": 116,
   "id": "starting-terrace",
   "metadata": {},
   "outputs": [],
   "source": [
    "numerical_columns = colnames(nodes)[unlist(lapply(nodes, is.numeric))]\n",
    "categorical_columns = colnames(nodes)[!unlist(lapply(nodes, is.numeric))]\n",
    "categorical_columns = categorical_columns[categorical_columns != 'country_iso3']"
   ]
  },
  {
   "cell_type": "code",
   "execution_count": 117,
   "id": "opening-popularity",
   "metadata": {},
   "outputs": [],
   "source": [
    "n_countries = dim(nodes)[1]\n",
    "dyads = matrix(0, nrow = n_countries, ncol = n_countries)\n",
    "nodecovs = matrix(0, nrow = n_countries, ncol = n_countries)\n",
    "absdiffs = matrix(0, nrow = n_countries, ncol = n_countries)"
   ]
  },
  {
   "cell_type": "code",
   "execution_count": 118,
   "id": "solid-sunrise",
   "metadata": {},
   "outputs": [],
   "source": [
    "for (i in 1:n_countries) {\n",
    "    for (j in 1:n_countries) {\n",
    "        if (sum(edges$source == nodes$country_iso3[i] & edges$target == nodes$country_iso3[j])) {\n",
    "            dyads[i, j] = 1\n",
    "            for (k in 1:length(numerical_columns)) {\n",
    "                nodecovs[i, j] = nodes[i, numerical_columns[k]] + nodes[j, numerical_columns[k]]\n",
    "                absdiffs[i, j] = abs(nodes[i, numerical_columns[k]] - nodes[j, numerical_columns[k]])\n",
    "            }\n",
    "        }\n",
    "    }\n",
    "}"
   ]
  },
  {
   "cell_type": "code",
   "execution_count": 74,
   "id": "liquid-damages",
   "metadata": {},
   "outputs": [],
   "source": [
    "dyads.flatten = as.vector(t(dyads))\n",
    "nodecovs.flatten = as.vector(t(nodecovs))\n",
    "absdiffs.flatten = as.vector(t(absdiffs))"
   ]
  },
  {
   "cell_type": "code",
   "execution_count": null,
   "id": "sexual-huntington",
   "metadata": {},
   "outputs": [],
   "source": []
  }
 ],
 "metadata": {
  "kernelspec": {
   "display_name": "R",
   "language": "R",
   "name": "ir"
  },
  "language_info": {
   "codemirror_mode": "r",
   "file_extension": ".r",
   "mimetype": "text/x-r-source",
   "name": "R",
   "pygments_lexer": "r",
   "version": "4.0.3"
  }
 },
 "nbformat": 4,
 "nbformat_minor": 5
}
