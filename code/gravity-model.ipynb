{
 "cells": [
  {
   "cell_type": "code",
   "execution_count": 31,
   "id": "resistant-realtor",
   "metadata": {},
   "outputs": [],
   "source": [
    "edges = read.csv('../data/edgelist_2011.csv')\n",
    "nodes = read.csv('../data/nodelist_2011.csv')"
   ]
  },
  {
   "cell_type": "code",
   "execution_count": 32,
   "id": "regulation-kingdom",
   "metadata": {},
   "outputs": [],
   "source": [
    "n_countries = dim(nodes)[1]\n",
    "dyads = matrix(0, nrow = n_countries, ncol = n_countries)"
   ]
  },
  {
   "cell_type": "code",
   "execution_count": 33,
   "id": "together-granny",
   "metadata": {},
   "outputs": [],
   "source": [
    "for (i in 1:n_countries) {\n",
    "    for (j in 1:n_countries) {\n",
    "        if (sum(edges$source == nodes$country_iso3[i] & edges$target == nodes$country_iso3[j])) {\n",
    "            dyads[i, j] = 1\n",
    "        }\n",
    "    }\n",
    "}"
   ]
  },
  {
   "cell_type": "code",
   "execution_count": 42,
   "id": "complex-garden",
   "metadata": {},
   "outputs": [],
   "source": [
    "dyads.flatten = as.vector(t(dyads))"
   ]
  },
  {
   "cell_type": "code",
   "execution_count": null,
   "id": "international-angola",
   "metadata": {},
   "outputs": [],
   "source": []
  }
 ],
 "metadata": {
  "kernelspec": {
   "display_name": "R",
   "language": "R",
   "name": "ir"
  },
  "language_info": {
   "codemirror_mode": "r",
   "file_extension": ".r",
   "mimetype": "text/x-r-source",
   "name": "R",
   "pygments_lexer": "r",
   "version": "4.0.3"
  }
 },
 "nbformat": 4,
 "nbformat_minor": 5
}
