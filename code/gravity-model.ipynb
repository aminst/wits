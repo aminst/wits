{
 "cells": [
  {
   "cell_type": "code",
   "execution_count": 32,
   "id": "permanent-parcel",
   "metadata": {},
   "outputs": [],
   "source": [
    "edges = read.csv('../data/2011/edgelist.csv')\n",
    "nodes = read.csv('../data/2011/nodelist.csv')"
   ]
  },
  {
   "cell_type": "code",
   "execution_count": 33,
   "id": "smoking-preview",
   "metadata": {},
   "outputs": [],
   "source": [
    "nodes = transform(nodes, landlocked=as.factor(landlocked))\n",
    "n_countries = dim(nodes)[1]"
   ]
  },
  {
   "cell_type": "code",
   "execution_count": 34,
   "id": "thousand-delay",
   "metadata": {},
   "outputs": [],
   "source": [
    "nodes$gdp_us_dollar <- log(nodes$gdp_us_dollar)\n",
    "nodes$area <- log(nodes$area)\n",
    "nodes$population <- log(nodes$population)\n",
    "nodes$gdp_per_capita <- log(nodes$gdp_per_capita)"
   ]
  },
  {
   "cell_type": "code",
   "execution_count": 35,
   "id": "typical-collaboration",
   "metadata": {},
   "outputs": [],
   "source": [
    "nodes$gdp_us_dollar = as.numeric(scale(nodes$gdp_us_dollar))\n",
    "nodes$gdp_growth = as.numeric(scale(nodes$gdp_growth))\n",
    "nodes$inflation_rate = as.numeric(scale(nodes$inflation_rate))\n",
    "nodes$population = as.numeric(scale(nodes$population))\n",
    "nodes$gdp_per_capita = as.numeric(scale(nodes$gdp_per_capita))\n",
    "nodes$agriculture_forestry_fishing_of_gdp = as.numeric(scale(nodes$agriculture_forestry_fishing_of_gdp))\n",
    "nodes$industry_of_gdp = as.numeric(scale(nodes$industry_of_gdp))\n",
    "nodes$merchandise_of_gdp = as.numeric(scale(nodes$merchandise_of_gdp))\n",
    "nodes$net_barter_of_trade = as.numeric(scale(nodes$net_barter_of_trade))\n",
    "nodes$foreign_direct_investment_inflows = as.numeric(scale(nodes$foreign_direct_investment_inflows))"
   ]
  },
  {
   "cell_type": "code",
   "execution_count": 36,
   "id": "prerequisite-protection",
   "metadata": {},
   "outputs": [],
   "source": [
    "nodes = subset(nodes, select = -c(population, area, gdp_per_capita))"
   ]
  },
  {
   "cell_type": "code",
   "execution_count": 37,
   "id": "professional-brake",
   "metadata": {},
   "outputs": [
    {
     "data": {
      "text/html": [
       "<table class=\"dataframe\">\n",
       "<caption>A data.frame: 3 × 13</caption>\n",
       "<thead>\n",
       "\t<tr><th></th><th scope=col>country_iso3</th><th scope=col>gdp_growth</th><th scope=col>industry_of_gdp</th><th scope=col>langoff_1</th><th scope=col>gdp_us_dollar</th><th scope=col>colonizer</th><th scope=col>landlocked</th><th scope=col>merchandise_of_gdp</th><th scope=col>agriculture_forestry_fishing_of_gdp</th><th scope=col>continent</th><th scope=col>inflation_rate</th><th scope=col>net_barter_of_trade</th><th scope=col>foreign_direct_investment_inflows</th></tr>\n",
       "\t<tr><th></th><th scope=col>&lt;chr&gt;</th><th scope=col>&lt;dbl&gt;</th><th scope=col>&lt;dbl&gt;</th><th scope=col>&lt;chr&gt;</th><th scope=col>&lt;dbl&gt;</th><th scope=col>&lt;chr&gt;</th><th scope=col>&lt;fct&gt;</th><th scope=col>&lt;dbl&gt;</th><th scope=col>&lt;dbl&gt;</th><th scope=col>&lt;chr&gt;</th><th scope=col>&lt;dbl&gt;</th><th scope=col>&lt;dbl&gt;</th><th scope=col>&lt;dbl&gt;</th></tr>\n",
       "</thead>\n",
       "<tbody>\n",
       "\t<tr><th scope=row>1</th><td>AFG</td><td>-0.5184423</td><td>-0.3752702</td><td>Persian   </td><td>-0.3212859</td><td>USA </td><td>1</td><td>-0.8848238</td><td> 1.0539166</td><td>Asia  </td><td> 0.8818298</td><td> 0.2375190</td><td>-0.2945139</td></tr>\n",
       "\t<tr><th scope=row>2</th><td>AGO</td><td>-0.0371874</td><td> 1.8657481</td><td>Portuguese</td><td> 0.4554125</td><td>PRT </td><td>0</td><td> 0.2061753</td><td>-0.4986081</td><td>Africa</td><td> 1.1566566</td><td> 1.9683538</td><td>-0.3679682</td></tr>\n",
       "\t<tr><th scope=row>3</th><td>ALB</td><td>-0.1836130</td><td>-0.2578438</td><td>Albanian  </td><td>-0.4578093</td><td>NONE</td><td>0</td><td>-0.3845779</td><td> 0.5753643</td><td>Europe</td><td>-0.4896270</td><td>-0.6387798</td><td>-0.2707165</td></tr>\n",
       "</tbody>\n",
       "</table>\n"
      ],
      "text/latex": [
       "A data.frame: 3 × 13\n",
       "\\begin{tabular}{r|lllllllllllll}\n",
       "  & country\\_iso3 & gdp\\_growth & industry\\_of\\_gdp & langoff\\_1 & gdp\\_us\\_dollar & colonizer & landlocked & merchandise\\_of\\_gdp & agriculture\\_forestry\\_fishing\\_of\\_gdp & continent & inflation\\_rate & net\\_barter\\_of\\_trade & foreign\\_direct\\_investment\\_inflows\\\\\n",
       "  & <chr> & <dbl> & <dbl> & <chr> & <dbl> & <chr> & <fct> & <dbl> & <dbl> & <chr> & <dbl> & <dbl> & <dbl>\\\\\n",
       "\\hline\n",
       "\t1 & AFG & -0.5184423 & -0.3752702 & Persian    & -0.3212859 & USA  & 1 & -0.8848238 &  1.0539166 & Asia   &  0.8818298 &  0.2375190 & -0.2945139\\\\\n",
       "\t2 & AGO & -0.0371874 &  1.8657481 & Portuguese &  0.4554125 & PRT  & 0 &  0.2061753 & -0.4986081 & Africa &  1.1566566 &  1.9683538 & -0.3679682\\\\\n",
       "\t3 & ALB & -0.1836130 & -0.2578438 & Albanian   & -0.4578093 & NONE & 0 & -0.3845779 &  0.5753643 & Europe & -0.4896270 & -0.6387798 & -0.2707165\\\\\n",
       "\\end{tabular}\n"
      ],
      "text/markdown": [
       "\n",
       "A data.frame: 3 × 13\n",
       "\n",
       "| <!--/--> | country_iso3 &lt;chr&gt; | gdp_growth &lt;dbl&gt; | industry_of_gdp &lt;dbl&gt; | langoff_1 &lt;chr&gt; | gdp_us_dollar &lt;dbl&gt; | colonizer &lt;chr&gt; | landlocked &lt;fct&gt; | merchandise_of_gdp &lt;dbl&gt; | agriculture_forestry_fishing_of_gdp &lt;dbl&gt; | continent &lt;chr&gt; | inflation_rate &lt;dbl&gt; | net_barter_of_trade &lt;dbl&gt; | foreign_direct_investment_inflows &lt;dbl&gt; |\n",
       "|---|---|---|---|---|---|---|---|---|---|---|---|---|---|\n",
       "| 1 | AFG | -0.5184423 | -0.3752702 | Persian    | -0.3212859 | USA  | 1 | -0.8848238 |  1.0539166 | Asia   |  0.8818298 |  0.2375190 | -0.2945139 |\n",
       "| 2 | AGO | -0.0371874 |  1.8657481 | Portuguese |  0.4554125 | PRT  | 0 |  0.2061753 | -0.4986081 | Africa |  1.1566566 |  1.9683538 | -0.3679682 |\n",
       "| 3 | ALB | -0.1836130 | -0.2578438 | Albanian   | -0.4578093 | NONE | 0 | -0.3845779 |  0.5753643 | Europe | -0.4896270 | -0.6387798 | -0.2707165 |\n",
       "\n"
      ],
      "text/plain": [
       "  country_iso3 gdp_growth industry_of_gdp langoff_1  gdp_us_dollar colonizer\n",
       "1 AFG          -0.5184423 -0.3752702      Persian    -0.3212859    USA      \n",
       "2 AGO          -0.0371874  1.8657481      Portuguese  0.4554125    PRT      \n",
       "3 ALB          -0.1836130 -0.2578438      Albanian   -0.4578093    NONE     \n",
       "  landlocked merchandise_of_gdp agriculture_forestry_fishing_of_gdp continent\n",
       "1 1          -0.8848238          1.0539166                          Asia     \n",
       "2 0           0.2061753         -0.4986081                          Africa   \n",
       "3 0          -0.3845779          0.5753643                          Europe   \n",
       "  inflation_rate net_barter_of_trade foreign_direct_investment_inflows\n",
       "1  0.8818298      0.2375190          -0.2945139                       \n",
       "2  1.1566566      1.9683538          -0.3679682                       \n",
       "3 -0.4896270     -0.6387798          -0.2707165                       "
      ]
     },
     "metadata": {},
     "output_type": "display_data"
    }
   ],
   "source": [
    "head(nodes, 3)"
   ]
  },
  {
   "cell_type": "code",
   "execution_count": 38,
   "id": "coordinate-squad",
   "metadata": {},
   "outputs": [],
   "source": [
    "numerical_columns = colnames(nodes)[unlist(lapply(nodes, is.numeric))]\n",
    "categorical_columns = colnames(nodes)[!unlist(lapply(nodes, is.numeric))]\n",
    "categorical_columns = categorical_columns[categorical_columns != 'country_iso3']"
   ]
  },
  {
   "cell_type": "code",
   "execution_count": 39,
   "id": "advance-gathering",
   "metadata": {},
   "outputs": [],
   "source": [
    "dyads = matrix(0, nrow = n_countries, ncol = n_countries)\n",
    "nodecovs = array(\n",
    "    rep(0, length(numerical_columns)*n_countries*n_countries), \n",
    "    c(length(numerical_columns), n_countries, n_countries)\n",
    ")\n",
    "absdiffs = array(\n",
    "    rep(0, length(numerical_columns)*n_countries*n_countries), \n",
    "    c(length(numerical_columns), n_countries, n_countries)\n",
    ")\n",
    "nodematchs = array(\n",
    "    rep(0, length(categorical_columns)*n_countries*n_countries), \n",
    "    c(length(categorical_columns), n_countries, n_countries)\n",
    ")"
   ]
  },
  {
   "cell_type": "code",
   "execution_count": 40,
   "id": "universal-bones",
   "metadata": {},
   "outputs": [],
   "source": [
    "for (i in 1:n_countries) {\n",
    "    for (j in 1:n_countries) {\n",
    "        if (sum(edges$source == nodes$country_iso3[i] & edges$target == nodes$country_iso3[j])) {\n",
    "            dyads[i, j] = 1\n",
    "        }    \n",
    "        for (k in 1:length(numerical_columns)) {\n",
    "            nodecovs[k, i, j] = nodes[i, numerical_columns[k]] + nodes[j, numerical_columns[k]]\n",
    "            absdiffs[k, i, j] = abs(nodes[i, numerical_columns[k]] - nodes[j, numerical_columns[k]])\n",
    "        }\n",
    "        for (k in 1:length(categorical_columns)) {\n",
    "            if (nodes[i, categorical_columns[k]] == nodes[j, categorical_columns[k]]) {\n",
    "                 nodematchs[k, i, j] = 1   \n",
    "            }\n",
    "        }\n",
    "    }\n",
    "}"
   ]
  },
  {
   "cell_type": "code",
   "execution_count": 44,
   "id": "charitable-gates",
   "metadata": {},
   "outputs": [],
   "source": [
    "df = data.frame(\n",
    "    edge = as.vector(t(dyads))\n",
    ")"
   ]
  },
  {
   "cell_type": "code",
   "execution_count": 46,
   "id": "architectural-biology",
   "metadata": {},
   "outputs": [],
   "source": [
    "for (k in 1:length(numerical_columns)) {\n",
    "    df[, paste('nodecov-',numerical_columns[k], sep = '')] = as.vector(t(nodecovs[k,,]))\n",
    "}\n",
    "for (k in 1:length(numerical_columns)) {\n",
    "    df[, paste('absdiff-',numerical_columns[k], sep = '')] = as.vector(t(absdiffs[k,,]))\n",
    "}\n",
    "for (k in 1:length(categorical_columns)) {\n",
    "    df[, paste('nodematch-',categorical_columns[k], sep = '')] = as.vector(t(nodematchs[k,,]))\n",
    "}"
   ]
  },
  {
   "cell_type": "code",
   "execution_count": 53,
   "id": "interim-upset",
   "metadata": {},
   "outputs": [],
   "source": [
    "self_loops_indices = matrix(0, nrow = n_countries)\n",
    "for (i in 1:n_countries) {\n",
    "    self_loops_indices[i] = 1 + n_countries*(i - 1) + (i - 1)\n",
    "}"
   ]
  },
  {
   "cell_type": "code",
   "execution_count": 57,
   "id": "union-conflict",
   "metadata": {},
   "outputs": [],
   "source": [
    "df = df[-self_loops_indices, ]"
   ]
  },
  {
   "cell_type": "code",
   "execution_count": 58,
   "id": "liable-celebrity",
   "metadata": {},
   "outputs": [
    {
     "name": "stderr",
     "output_type": "stream",
     "text": [
      "Warning message:\n",
      "\"glm.fit: fitted probabilities numerically 0 or 1 occurred\"\n"
     ]
    }
   ],
   "source": [
    "model = glm(edge ~ ., data = df, family = 'binomial', control=glm.control(maxit=50))"
   ]
  },
  {
   "cell_type": "code",
   "execution_count": 59,
   "id": "ethical-collect",
   "metadata": {},
   "outputs": [
    {
     "data": {
      "text/plain": [
       "\n",
       "Call:\n",
       "glm(formula = edge ~ ., family = \"binomial\", data = df, control = glm.control(maxit = 50))\n",
       "\n",
       "Deviance Residuals: \n",
       "    Min       1Q   Median       3Q      Max  \n",
       "-0.9386  -0.5562  -0.4774  -0.3627   2.7199  \n",
       "\n",
       "Coefficients:\n",
       "                                                Estimate Std. Error z value\n",
       "(Intercept)                                   -3.0054933  0.1347067 -22.311\n",
       "`nodecov-gdp_growth`                           0.0148037  0.0196555   0.753\n",
       "`nodecov-industry_of_gdp`                      0.0921898  0.0229817   4.011\n",
       "`nodecov-gdp_us_dollar`                       -0.0075006  0.0194455  -0.386\n",
       "`nodecov-merchandise_of_gdp`                   0.0410224  0.0187946   2.183\n",
       "`nodecov-agriculture_forestry_fishing_of_gdp` -0.0667034  0.0234224  -2.848\n",
       "`nodecov-inflation_rate`                      -0.0415240  0.0249150  -1.667\n",
       "`nodecov-net_barter_of_trade`                  0.1118276  0.0194524   5.749\n",
       "`nodecov-foreign_direct_investment_inflows`   -2.2157195  0.2124336 -10.430\n",
       "`absdiff-gdp_growth`                          -0.0670976  0.0244614  -2.743\n",
       "`absdiff-industry_of_gdp`                     -0.1685310  0.0269322  -6.258\n",
       "`absdiff-gdp_us_dollar`                        0.2783983  0.0244109  11.405\n",
       "`absdiff-merchandise_of_gdp`                  -0.0004008  0.0251420  -0.016\n",
       "`absdiff-agriculture_forestry_fishing_of_gdp`  0.1051972  0.0276341   3.807\n",
       "`absdiff-inflation_rate`                       0.0227294  0.0302674   0.751\n",
       "`absdiff-net_barter_of_trade`                 -0.1141424  0.0246217  -4.636\n",
       "`absdiff-foreign_direct_investment_inflows`    2.0057638  0.2142910   9.360\n",
       "`nodematch-langoff_1`                         -0.2415352  0.0677261  -3.566\n",
       "`nodematch-colonizer`                          0.0517893  0.0416455   1.244\n",
       "`nodematch-landlocked`                        -0.2493883  0.0386870  -6.446\n",
       "`nodematch-continent`                         -0.4972846  0.0516130  -9.635\n",
       "                                              Pr(>|z|)    \n",
       "(Intercept)                                    < 2e-16 ***\n",
       "`nodecov-gdp_growth`                          0.451357    \n",
       "`nodecov-industry_of_gdp`                     6.03e-05 ***\n",
       "`nodecov-gdp_us_dollar`                       0.699701    \n",
       "`nodecov-merchandise_of_gdp`                  0.029061 *  \n",
       "`nodecov-agriculture_forestry_fishing_of_gdp` 0.004402 ** \n",
       "`nodecov-inflation_rate`                      0.095589 .  \n",
       "`nodecov-net_barter_of_trade`                 8.99e-09 ***\n",
       "`nodecov-foreign_direct_investment_inflows`    < 2e-16 ***\n",
       "`absdiff-gdp_growth`                          0.006088 ** \n",
       "`absdiff-industry_of_gdp`                     3.91e-10 ***\n",
       "`absdiff-gdp_us_dollar`                        < 2e-16 ***\n",
       "`absdiff-merchandise_of_gdp`                  0.987281    \n",
       "`absdiff-agriculture_forestry_fishing_of_gdp` 0.000141 ***\n",
       "`absdiff-inflation_rate`                      0.452680    \n",
       "`absdiff-net_barter_of_trade`                 3.55e-06 ***\n",
       "`absdiff-foreign_direct_investment_inflows`    < 2e-16 ***\n",
       "`nodematch-langoff_1`                         0.000362 ***\n",
       "`nodematch-colonizer`                         0.213656    \n",
       "`nodematch-landlocked`                        1.15e-10 ***\n",
       "`nodematch-continent`                          < 2e-16 ***\n",
       "---\n",
       "Signif. codes:  0 '***' 0.001 '**' 0.01 '*' 0.05 '.' 0.1 ' ' 1\n",
       "\n",
       "(Dispersion parameter for binomial family taken to be 1)\n",
       "\n",
       "    Null deviance: 22018  on 30101  degrees of freedom\n",
       "Residual deviance: 21211  on 30081  degrees of freedom\n",
       "AIC: 21253\n",
       "\n",
       "Number of Fisher Scoring iterations: 6\n"
      ]
     },
     "metadata": {},
     "output_type": "display_data"
    }
   ],
   "source": [
    "summary(model)"
   ]
  },
  {
   "cell_type": "code",
   "execution_count": null,
   "id": "brave-prairie",
   "metadata": {},
   "outputs": [],
   "source": []
  }
 ],
 "metadata": {
  "kernelspec": {
   "display_name": "R",
   "language": "R",
   "name": "ir"
  },
  "language_info": {
   "codemirror_mode": "r",
   "file_extension": ".r",
   "mimetype": "text/x-r-source",
   "name": "R",
   "pygments_lexer": "r",
   "version": "4.0.3"
  }
 },
 "nbformat": 4,
 "nbformat_minor": 5
}
