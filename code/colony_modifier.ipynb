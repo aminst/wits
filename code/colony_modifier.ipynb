{
 "cells": [
  {
   "cell_type": "code",
   "execution_count": 6,
   "id": "acd481d8-27d4-4db4-a8b0-10aee5f8b6bf",
   "metadata": {},
   "outputs": [],
   "source": [
    "import pandas as pd\n",
    "import numpy as np"
   ]
  },
  {
   "cell_type": "code",
   "execution_count": 7,
   "id": "da5d90ac-afe0-4423-af49-b3bf6982a4d7",
   "metadata": {},
   "outputs": [],
   "source": [
    "nl = pd.read_csv(\"../data/nodelist_2011.csv\")"
   ]
  },
  {
   "cell_type": "code",
   "execution_count": 8,
   "id": "377184f3-9901-4f33-ad63-212b6f55a5d9",
   "metadata": {},
   "outputs": [],
   "source": [
    "colonies = pd.read_csv(\"../data/features/colonization.csv\")"
   ]
  },
  {
   "cell_type": "code",
   "execution_count": 9,
   "id": "32067b28-138d-4b5a-b988-24e9f68ec115",
   "metadata": {},
   "outputs": [],
   "source": [
    "colony_all_countries = set(colonies[\"country_iso3\"]).union(set(colonies[\"colonizer\"]))\n",
    "all_countries = set(nl[\"country_iso3\"])"
   ]
  },
  {
   "cell_type": "code",
   "execution_count": 11,
   "id": "fef97dd4-79ec-46bb-8532-ee6914404cbc",
   "metadata": {},
   "outputs": [],
   "source": [
    "for country in colony_all_countries - all_countries:\n",
    "    colonies.drop(colonies[colonies[\"country_iso3\"] == country].index, inplace=True)\n",
    "    colonies.drop(colonies[colonies[\"colonizer\"] == country].index, inplace=True)"
   ]
  },
  {
   "cell_type": "code",
   "execution_count": 24,
   "id": "bcf2a605-b337-4f85-b82f-7fa08030ca26",
   "metadata": {},
   "outputs": [],
   "source": [
    "for country in set(colonies[\"colonizer\"]):\n",
    "    colonies = colonies.append({\"country_iso3\": country, \"colonizer\": country}, ignore_index=True)"
   ]
  },
  {
   "cell_type": "code",
   "execution_count": 28,
   "id": "2ef1ea9d-49ae-412e-b007-2d4be69c53dd",
   "metadata": {},
   "outputs": [],
   "source": [
    "for country in all_countries - set(colonies[\"country_iso3\"]):\n",
    "    colonies = colonies.append({\"country_iso3\": country, \"colonizer\": \"NONE\"}, ignore_index=True)"
   ]
  },
  {
   "cell_type": "code",
   "execution_count": 31,
   "id": "0acca769-5b5a-4d1b-af2e-3a7e7ca3b773",
   "metadata": {},
   "outputs": [],
   "source": [
    "colonies.to_csv(\"../data/features/colonization.csv\", index=False)"
   ]
  },
  {
   "cell_type": "code",
   "execution_count": null,
   "id": "1f95c233-b911-4179-b845-4d3751da749c",
   "metadata": {},
   "outputs": [],
   "source": []
  }
 ],
 "metadata": {
  "kernelspec": {
   "display_name": "Python 3",
   "language": "python",
   "name": "python3"
  },
  "language_info": {
   "codemirror_mode": {
    "name": "ipython",
    "version": 3
   },
   "file_extension": ".py",
   "mimetype": "text/x-python",
   "name": "python",
   "nbconvert_exporter": "python",
   "pygments_lexer": "ipython3",
   "version": "3.9.5"
  }
 },
 "nbformat": 4,
 "nbformat_minor": 5
}
