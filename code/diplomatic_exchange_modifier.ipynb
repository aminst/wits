{
 "cells": [
  {
   "cell_type": "code",
   "execution_count": 7,
   "metadata": {},
   "outputs": [],
   "source": [
    "import pandas as pd"
   ]
  },
  {
   "cell_type": "code",
   "execution_count": 8,
   "metadata": {},
   "outputs": [],
   "source": [
    "de = pd.read_csv(\"../data/features/diplomatic_exchange.csv\")\n",
    "country_names = pd.read_csv(\"../info/country_names.txt\", sep=':')\n",
    "nl = pd.read_csv(\"../data/nodelist_2011.csv\")"
   ]
  },
  {
   "cell_type": "code",
   "execution_count": 9,
   "metadata": {},
   "outputs": [],
   "source": [
    "for idx, row in country_names.iterrows():\n",
    "    de.loc[de[\"Destination\"] == row[\"country_name\"], \"Destination\"] = row[\"country_iso3\"]\n",
    "    de.loc[de[\"Country\"] == row[\"country_name\"], \"Country\"] = row[\"country_iso3\"]"
   ]
  },
  {
   "cell_type": "code",
   "execution_count": 10,
   "metadata": {},
   "outputs": [],
   "source": [
    "for cnt in set(de[\"Country\"].unique()).union(set(de[\"Destination\"].unique())) - set(nl[\"country_iso3\"].unique()):\n",
    "    de.drop(de[de[\"Country\"] == cnt].index, inplace=True)\n",
    "    de.drop(de[de[\"Destination\"] == cnt].index, inplace=True)"
   ]
  },
  {
   "cell_type": "code",
   "execution_count": 11,
   "metadata": {},
   "outputs": [],
   "source": [
    "de = de.rename(columns={\"Destination\": \"target\", \"Country\": \"source\"})"
   ]
  },
  {
   "cell_type": "code",
   "execution_count": 12,
   "metadata": {},
   "outputs": [],
   "source": [
    "de.to_csv(\"../data/features/dip_exhange_clean.csv\", index=False)"
   ]
  },
  {
   "cell_type": "code",
   "execution_count": null,
   "metadata": {},
   "outputs": [],
   "source": []
  }
 ],
 "metadata": {
  "kernelspec": {
   "display_name": "Python 3",
   "language": "python",
   "name": "python3"
  },
  "language_info": {
   "codemirror_mode": {
    "name": "ipython",
    "version": 3
   },
   "file_extension": ".py",
   "mimetype": "text/x-python",
   "name": "python",
   "nbconvert_exporter": "python",
   "pygments_lexer": "ipython3",
   "version": "3.9.6"
  }
 },
 "nbformat": 4,
 "nbformat_minor": 4
}
